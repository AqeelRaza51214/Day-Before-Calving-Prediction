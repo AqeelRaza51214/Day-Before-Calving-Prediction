{
 "cells": [
  {
   "cell_type": "markdown",
   "id": "df82da80",
   "metadata": {},
   "source": [
    "# Machine Learning Calving Day Prediction Final Version- 02"
   ]
  },
  {
   "cell_type": "markdown",
   "id": "1c343636",
   "metadata": {},
   "source": [
    "## Section 02: Prediction of Day Before Calving and Calving Day [Day = -1, & Day = 0]"
   ]
  },
  {
   "cell_type": "markdown",
   "id": "40aa951d",
   "metadata": {},
   "source": [
    "### Libraries"
   ]
  },
  {
   "cell_type": "code",
   "execution_count": 1,
   "id": "170ca2e1",
   "metadata": {},
   "outputs": [],
   "source": [
    "import pandas as pd \n",
    "import numpy as np \n",
    "import seaborn as sns \n",
    "import matplotlib.pyplot as plt \n",
    "import itertools \n",
    "import warnings \n",
    "warnings.filterwarnings(action='ignore')\n",
    "from datetime import datetime\n",
    "import os \n",
    "import re"
   ]
  },
  {
   "cell_type": "markdown",
   "id": "571f06d6",
   "metadata": {},
   "source": [
    "### Loading the data set"
   ]
  },
  {
   "cell_type": "code",
   "execution_count": 2,
   "id": "b3429574",
   "metadata": {},
   "outputs": [],
   "source": [
    "# Reading the dataset\n",
    "df = pd.read_csv(\"calving_data_version_02.csv\")"
   ]
  },
  {
   "cell_type": "code",
   "execution_count": 3,
   "id": "de818217",
   "metadata": {},
   "outputs": [
    {
     "data": {
      "text/html": [
       "<div>\n",
       "<style scoped>\n",
       "    .dataframe tbody tr th:only-of-type {\n",
       "        vertical-align: middle;\n",
       "    }\n",
       "\n",
       "    .dataframe tbody tr th {\n",
       "        vertical-align: top;\n",
       "    }\n",
       "\n",
       "    .dataframe thead th {\n",
       "        text-align: right;\n",
       "    }\n",
       "</style>\n",
       "<table border=\"1\" class=\"dataframe\">\n",
       "  <thead>\n",
       "    <tr style=\"text-align: right;\">\n",
       "      <th></th>\n",
       "      <th>Date</th>\n",
       "      <th>Calving Date</th>\n",
       "      <th>Calving Time</th>\n",
       "      <th>Insemination Date</th>\n",
       "      <th>Days Pregnancy</th>\n",
       "      <th>Days Pregnancy 1</th>\n",
       "      <th>Expected Calving Days</th>\n",
       "      <th>Expected Calving Days 1</th>\n",
       "      <th>Heat Indicator</th>\n",
       "      <th>Cow ID</th>\n",
       "      <th>...</th>\n",
       "      <th>Activity</th>\n",
       "      <th>Rest Time</th>\n",
       "      <th>Rest Per Bout</th>\n",
       "      <th>Restlessness Ratio</th>\n",
       "      <th>Manner Of Calving</th>\n",
       "      <th>Offspring</th>\n",
       "      <th>Parity</th>\n",
       "      <th>Days Before Calving</th>\n",
       "      <th>Hours Before Calving</th>\n",
       "      <th>Calved</th>\n",
       "    </tr>\n",
       "  </thead>\n",
       "  <tbody>\n",
       "    <tr>\n",
       "      <th>0</th>\n",
       "      <td>10-Dec-21</td>\n",
       "      <td>24-Dec-21</td>\n",
       "      <td>8:04</td>\n",
       "      <td>16-Mar-21</td>\n",
       "      <td>269</td>\n",
       "      <td>269.0</td>\n",
       "      <td>11</td>\n",
       "      <td>11</td>\n",
       "      <td>8</td>\n",
       "      <td>3</td>\n",
       "      <td>...</td>\n",
       "      <td>141</td>\n",
       "      <td>735</td>\n",
       "      <td>29</td>\n",
       "      <td>1.7</td>\n",
       "      <td>Normal</td>\n",
       "      <td>1</td>\n",
       "      <td>multiparous</td>\n",
       "      <td>-14</td>\n",
       "      <td>-360</td>\n",
       "      <td>0</td>\n",
       "    </tr>\n",
       "    <tr>\n",
       "      <th>1</th>\n",
       "      <td>11-Dec-21</td>\n",
       "      <td>24-Dec-21</td>\n",
       "      <td>8:04</td>\n",
       "      <td>16-Mar-21</td>\n",
       "      <td>270</td>\n",
       "      <td>270.0</td>\n",
       "      <td>10</td>\n",
       "      <td>10</td>\n",
       "      <td>-2</td>\n",
       "      <td>3</td>\n",
       "      <td>...</td>\n",
       "      <td>131</td>\n",
       "      <td>827</td>\n",
       "      <td>32</td>\n",
       "      <td>1.5</td>\n",
       "      <td>Normal</td>\n",
       "      <td>1</td>\n",
       "      <td>multiparous</td>\n",
       "      <td>-13</td>\n",
       "      <td>-336</td>\n",
       "      <td>0</td>\n",
       "    </tr>\n",
       "    <tr>\n",
       "      <th>2</th>\n",
       "      <td>12-Dec-21</td>\n",
       "      <td>24-Dec-21</td>\n",
       "      <td>8:04</td>\n",
       "      <td>16-Mar-21</td>\n",
       "      <td>271</td>\n",
       "      <td>271.0</td>\n",
       "      <td>9</td>\n",
       "      <td>9</td>\n",
       "      <td>8</td>\n",
       "      <td>3</td>\n",
       "      <td>...</td>\n",
       "      <td>144</td>\n",
       "      <td>660</td>\n",
       "      <td>31</td>\n",
       "      <td>2.1</td>\n",
       "      <td>Normal</td>\n",
       "      <td>1</td>\n",
       "      <td>multiparous</td>\n",
       "      <td>-12</td>\n",
       "      <td>-312</td>\n",
       "      <td>0</td>\n",
       "    </tr>\n",
       "    <tr>\n",
       "      <th>3</th>\n",
       "      <td>13-Dec-21</td>\n",
       "      <td>24-Dec-21</td>\n",
       "      <td>8:04</td>\n",
       "      <td>16-Mar-21</td>\n",
       "      <td>272</td>\n",
       "      <td>272.0</td>\n",
       "      <td>8</td>\n",
       "      <td>8</td>\n",
       "      <td>-2</td>\n",
       "      <td>3</td>\n",
       "      <td>...</td>\n",
       "      <td>134</td>\n",
       "      <td>724</td>\n",
       "      <td>31</td>\n",
       "      <td>1.9</td>\n",
       "      <td>Normal</td>\n",
       "      <td>1</td>\n",
       "      <td>multiparous</td>\n",
       "      <td>-11</td>\n",
       "      <td>-264</td>\n",
       "      <td>0</td>\n",
       "    </tr>\n",
       "    <tr>\n",
       "      <th>4</th>\n",
       "      <td>14-Dec-21</td>\n",
       "      <td>24-Dec-21</td>\n",
       "      <td>8:04</td>\n",
       "      <td>16-Mar-21</td>\n",
       "      <td>273</td>\n",
       "      <td>273.0</td>\n",
       "      <td>7</td>\n",
       "      <td>7</td>\n",
       "      <td>-6</td>\n",
       "      <td>3</td>\n",
       "      <td>...</td>\n",
       "      <td>129</td>\n",
       "      <td>742</td>\n",
       "      <td>31</td>\n",
       "      <td>1.9</td>\n",
       "      <td>Normal</td>\n",
       "      <td>1</td>\n",
       "      <td>multiparous</td>\n",
       "      <td>-10</td>\n",
       "      <td>-240</td>\n",
       "      <td>0</td>\n",
       "    </tr>\n",
       "  </tbody>\n",
       "</table>\n",
       "<p>5 rows × 25 columns</p>\n",
       "</div>"
      ],
      "text/plain": [
       "        Date Calving Date Calving Time Insemination Date  Days Pregnancy  \\\n",
       "0  10-Dec-21    24-Dec-21         8:04         16-Mar-21             269   \n",
       "1  11-Dec-21    24-Dec-21         8:04         16-Mar-21             270   \n",
       "2  12-Dec-21    24-Dec-21         8:04         16-Mar-21             271   \n",
       "3  13-Dec-21    24-Dec-21         8:04         16-Mar-21             272   \n",
       "4  14-Dec-21    24-Dec-21         8:04         16-Mar-21             273   \n",
       "\n",
       "   Days Pregnancy 1  Expected Calving Days  Expected Calving Days 1  \\\n",
       "0             269.0                     11                       11   \n",
       "1             270.0                     10                       10   \n",
       "2             271.0                      9                        9   \n",
       "3             272.0                      8                        8   \n",
       "4             273.0                      7                        7   \n",
       "\n",
       "   Heat Indicator  Cow ID  ...  Activity Rest Time Rest Per Bout  \\\n",
       "0               8       3  ...       141       735            29   \n",
       "1              -2       3  ...       131       827            32   \n",
       "2               8       3  ...       144       660            31   \n",
       "3              -2       3  ...       134       724            31   \n",
       "4              -6       3  ...       129       742            31   \n",
       "\n",
       "   Restlessness Ratio  Manner Of Calving  Offspring       Parity  \\\n",
       "0                 1.7             Normal          1  multiparous   \n",
       "1                 1.5             Normal          1  multiparous   \n",
       "2                 2.1             Normal          1  multiparous   \n",
       "3                 1.9             Normal          1  multiparous   \n",
       "4                 1.9             Normal          1  multiparous   \n",
       "\n",
       "  Days Before Calving Hours Before Calving Calved  \n",
       "0                 -14                 -360      0  \n",
       "1                 -13                 -336      0  \n",
       "2                 -12                 -312      0  \n",
       "3                 -11                 -264      0  \n",
       "4                 -10                 -240      0  \n",
       "\n",
       "[5 rows x 25 columns]"
      ]
     },
     "execution_count": 3,
     "metadata": {},
     "output_type": "execute_result"
    }
   ],
   "source": [
    "# Check first five rows of data\n",
    "df.head()"
   ]
  },
  {
   "cell_type": "code",
   "execution_count": 4,
   "id": "bda29c91",
   "metadata": {},
   "outputs": [
    {
     "data": {
      "text/html": [
       "<div>\n",
       "<style scoped>\n",
       "    .dataframe tbody tr th:only-of-type {\n",
       "        vertical-align: middle;\n",
       "    }\n",
       "\n",
       "    .dataframe tbody tr th {\n",
       "        vertical-align: top;\n",
       "    }\n",
       "\n",
       "    .dataframe thead th {\n",
       "        text-align: right;\n",
       "    }\n",
       "</style>\n",
       "<table border=\"1\" class=\"dataframe\">\n",
       "  <thead>\n",
       "    <tr style=\"text-align: right;\">\n",
       "      <th></th>\n",
       "      <th>Date</th>\n",
       "      <th>Calving Date</th>\n",
       "      <th>Calving Time</th>\n",
       "      <th>Insemination Date</th>\n",
       "      <th>Days Pregnancy</th>\n",
       "      <th>Days Pregnancy 1</th>\n",
       "      <th>Expected Calving Days</th>\n",
       "      <th>Expected Calving Days 1</th>\n",
       "      <th>Heat Indicator</th>\n",
       "      <th>Cow ID</th>\n",
       "      <th>...</th>\n",
       "      <th>Activity</th>\n",
       "      <th>Rest Time</th>\n",
       "      <th>Rest Per Bout</th>\n",
       "      <th>Restlessness Ratio</th>\n",
       "      <th>Manner Of Calving</th>\n",
       "      <th>Offspring</th>\n",
       "      <th>Parity</th>\n",
       "      <th>Days Before Calving</th>\n",
       "      <th>Hours Before Calving</th>\n",
       "      <th>Calved</th>\n",
       "    </tr>\n",
       "  </thead>\n",
       "  <tbody>\n",
       "    <tr>\n",
       "      <th>4450</th>\n",
       "      <td>17-Aug-22</td>\n",
       "      <td>21-Aug-22</td>\n",
       "      <td>15:33</td>\n",
       "      <td>1-Dec-21</td>\n",
       "      <td>259</td>\n",
       "      <td>259.0</td>\n",
       "      <td>21</td>\n",
       "      <td>21</td>\n",
       "      <td>-6</td>\n",
       "      <td>1744</td>\n",
       "      <td>...</td>\n",
       "      <td>200</td>\n",
       "      <td>463</td>\n",
       "      <td>77</td>\n",
       "      <td>4.8</td>\n",
       "      <td>Normal</td>\n",
       "      <td>1</td>\n",
       "      <td>primiparous</td>\n",
       "      <td>-4</td>\n",
       "      <td>-96</td>\n",
       "      <td>0</td>\n",
       "    </tr>\n",
       "    <tr>\n",
       "      <th>4451</th>\n",
       "      <td>18-Aug-22</td>\n",
       "      <td>21-Aug-22</td>\n",
       "      <td>15:33</td>\n",
       "      <td>1-Dec-21</td>\n",
       "      <td>260</td>\n",
       "      <td>260.0</td>\n",
       "      <td>20</td>\n",
       "      <td>20</td>\n",
       "      <td>-1</td>\n",
       "      <td>1744</td>\n",
       "      <td>...</td>\n",
       "      <td>219</td>\n",
       "      <td>384</td>\n",
       "      <td>55</td>\n",
       "      <td>5.8</td>\n",
       "      <td>Normal</td>\n",
       "      <td>1</td>\n",
       "      <td>primiparous</td>\n",
       "      <td>-3</td>\n",
       "      <td>-72</td>\n",
       "      <td>0</td>\n",
       "    </tr>\n",
       "    <tr>\n",
       "      <th>4452</th>\n",
       "      <td>19-Aug-22</td>\n",
       "      <td>21-Aug-22</td>\n",
       "      <td>15:33</td>\n",
       "      <td>1-Dec-21</td>\n",
       "      <td>261</td>\n",
       "      <td>261.0</td>\n",
       "      <td>19</td>\n",
       "      <td>19</td>\n",
       "      <td>-1</td>\n",
       "      <td>1744</td>\n",
       "      <td>...</td>\n",
       "      <td>214</td>\n",
       "      <td>454</td>\n",
       "      <td>76</td>\n",
       "      <td>4.1</td>\n",
       "      <td>Normal</td>\n",
       "      <td>1</td>\n",
       "      <td>primiparous</td>\n",
       "      <td>-2</td>\n",
       "      <td>-48</td>\n",
       "      <td>0</td>\n",
       "    </tr>\n",
       "    <tr>\n",
       "      <th>4453</th>\n",
       "      <td>20-Aug-22</td>\n",
       "      <td>21-Aug-22</td>\n",
       "      <td>15:33</td>\n",
       "      <td>1-Dec-21</td>\n",
       "      <td>262</td>\n",
       "      <td>262.0</td>\n",
       "      <td>18</td>\n",
       "      <td>18</td>\n",
       "      <td>6</td>\n",
       "      <td>1744</td>\n",
       "      <td>...</td>\n",
       "      <td>229</td>\n",
       "      <td>471</td>\n",
       "      <td>52</td>\n",
       "      <td>4.4</td>\n",
       "      <td>Normal</td>\n",
       "      <td>1</td>\n",
       "      <td>primiparous</td>\n",
       "      <td>-1</td>\n",
       "      <td>-24</td>\n",
       "      <td>2</td>\n",
       "    </tr>\n",
       "    <tr>\n",
       "      <th>4454</th>\n",
       "      <td>21-Aug-22</td>\n",
       "      <td>21-Aug-22</td>\n",
       "      <td>15:33</td>\n",
       "      <td>1-Dec-21</td>\n",
       "      <td>263</td>\n",
       "      <td>263.0</td>\n",
       "      <td>17</td>\n",
       "      <td>17</td>\n",
       "      <td>-1</td>\n",
       "      <td>1744</td>\n",
       "      <td>...</td>\n",
       "      <td>303</td>\n",
       "      <td>--</td>\n",
       "      <td>--</td>\n",
       "      <td>--</td>\n",
       "      <td>Normal</td>\n",
       "      <td>1</td>\n",
       "      <td>primiparous</td>\n",
       "      <td>0</td>\n",
       "      <td>0</td>\n",
       "      <td>1</td>\n",
       "    </tr>\n",
       "  </tbody>\n",
       "</table>\n",
       "<p>5 rows × 25 columns</p>\n",
       "</div>"
      ],
      "text/plain": [
       "           Date Calving Date Calving Time Insemination Date  Days Pregnancy  \\\n",
       "4450  17-Aug-22    21-Aug-22        15:33          1-Dec-21             259   \n",
       "4451  18-Aug-22    21-Aug-22        15:33          1-Dec-21             260   \n",
       "4452  19-Aug-22    21-Aug-22        15:33          1-Dec-21             261   \n",
       "4453  20-Aug-22    21-Aug-22        15:33          1-Dec-21             262   \n",
       "4454  21-Aug-22    21-Aug-22        15:33          1-Dec-21             263   \n",
       "\n",
       "      Days Pregnancy 1  Expected Calving Days  Expected Calving Days 1  \\\n",
       "4450             259.0                     21                       21   \n",
       "4451             260.0                     20                       20   \n",
       "4452             261.0                     19                       19   \n",
       "4453             262.0                     18                       18   \n",
       "4454             263.0                     17                       17   \n",
       "\n",
       "      Heat Indicator  Cow ID  ...  Activity Rest Time Rest Per Bout  \\\n",
       "4450              -6    1744  ...       200       463            77   \n",
       "4451              -1    1744  ...       219       384            55   \n",
       "4452              -1    1744  ...       214       454            76   \n",
       "4453               6    1744  ...       229       471            52   \n",
       "4454              -1    1744  ...       303      --        --         \n",
       "\n",
       "      Restlessness Ratio  Manner Of Calving  Offspring       Parity  \\\n",
       "4450                 4.8             Normal          1  primiparous   \n",
       "4451                 5.8             Normal          1  primiparous   \n",
       "4452                 4.1             Normal          1  primiparous   \n",
       "4453                 4.4             Normal          1  primiparous   \n",
       "4454                --               Normal          1  primiparous   \n",
       "\n",
       "     Days Before Calving Hours Before Calving Calved  \n",
       "4450                  -4                  -96      0  \n",
       "4451                  -3                  -72      0  \n",
       "4452                  -2                  -48      0  \n",
       "4453                  -1                  -24      2  \n",
       "4454                   0                    0      1  \n",
       "\n",
       "[5 rows x 25 columns]"
      ]
     },
     "execution_count": 4,
     "metadata": {},
     "output_type": "execute_result"
    }
   ],
   "source": [
    "# Last fives rows of data set\n",
    "df.tail()"
   ]
  },
  {
   "cell_type": "code",
   "execution_count": 5,
   "id": "57d0d801",
   "metadata": {},
   "outputs": [
    {
     "data": {
      "text/plain": [
       "(4455, 25)"
      ]
     },
     "execution_count": 5,
     "metadata": {},
     "output_type": "execute_result"
    }
   ],
   "source": [
    "# Shape of the data set\n",
    "df.shape"
   ]
  },
  {
   "cell_type": "markdown",
   "id": "55df381f",
   "metadata": {},
   "source": [
    "## Cleaing section"
   ]
  },
  {
   "cell_type": "code",
   "execution_count": 6,
   "id": "6c48d647",
   "metadata": {},
   "outputs": [],
   "source": [
    "# Replace non-numeric values\n",
    "df = df.replace(\"--\", np.nan, regex=True)\n",
    "df = df.replace(r'^\\s*$', np.nan, regex=True)"
   ]
  },
  {
   "cell_type": "code",
   "execution_count": 7,
   "id": "e1182643",
   "metadata": {},
   "outputs": [
    {
     "data": {
      "text/plain": [
       "Days Pregnancy 1              1613\n",
       "Restlessness Ratio               2\n",
       "Rest Per Bout                    2\n",
       "Rest Time                        2\n",
       "Date                             0\n",
       "Lact No                          0\n",
       "Hours Before Calving             0\n",
       "Days Before Calving              0\n",
       "Parity                           0\n",
       "Offspring                        0\n",
       "Manner Of Calving                0\n",
       "Activity                         0\n",
       "Lactation No                     0\n",
       "Breed                            0\n",
       "Calving Date                     0\n",
       "Calving Season                   0\n",
       "Month of Sensor Attachment       0\n",
       "Cow ID                           0\n",
       "Heat Indicator                   0\n",
       "Expected Calving Days 1          0\n",
       "Expected Calving Days            0\n",
       "Days Pregnancy                   0\n",
       "Insemination Date                0\n",
       "Calving Time                     0\n",
       "Calved                           0\n",
       "dtype: int64"
      ]
     },
     "execution_count": 7,
     "metadata": {},
     "output_type": "execute_result"
    }
   ],
   "source": [
    "# Missing values inside the dataset\n",
    "df.isnull().sum().sort_values(ascending=False) "
   ]
  },
  {
   "cell_type": "markdown",
   "id": "c64c177d",
   "metadata": {},
   "source": [
    "## Visluzation of NAN value through heat map"
   ]
  },
  {
   "cell_type": "code",
   "execution_count": 8,
   "id": "f4ed98d8",
   "metadata": {},
   "outputs": [
    {
     "data": {
      "image/png": "[encoded data removed]",
      "text/plain": [
       "<Figure size 576x360 with 1 Axes>"
      ]
     },
     "metadata": {},
     "output_type": "display_data"
    }
   ],
   "source": [
    "# Setting the background style for chart\n",
    "sns.set_style('white')\n",
    "# Setting the figure size\n",
    "sns.set(rc={'figure.figsize':(8,5)})\n",
    "# Generating the heatmap to check the NAN values inside the dataset\n",
    "sns.heatmap(df.isnull(), cbar=False, yticklabels=False, cmap='viridis')\n",
    "# Setting the x ticks for chart\n",
    "plt.xticks(fontsize=10, rotation='vertical')\n",
    "# Show the chart\n",
    "plt.show()"
   ]
  },
  {
   "cell_type": "code",
   "execution_count": 9,
   "id": "deffbc12",
   "metadata": {},
   "outputs": [
    {
     "data": {
      "text/plain": [
       "Date                             0\n",
       "Days Before Calving              0\n",
       "Parity                           0\n",
       "Offspring                        0\n",
       "Manner Of Calving                0\n",
       "Activity                         0\n",
       "Lactation No                     0\n",
       "Lact No                          0\n",
       "Hours Before Calving             0\n",
       "Calving Season                   0\n",
       "Breed                            0\n",
       "Cow ID                           0\n",
       "Heat Indicator                   0\n",
       "Expected Calving Days 1          0\n",
       "Expected Calving Days            0\n",
       "Days Pregnancy                   0\n",
       "Insemination Date                0\n",
       "Calving Time                     0\n",
       "Calving Date                     0\n",
       "Month of Sensor Attachment       0\n",
       "Calved                           0\n",
       "Rest Time                        2\n",
       "Rest Per Bout                    2\n",
       "Restlessness Ratio               2\n",
       "Days Pregnancy 1              1613\n",
       "dtype: int64"
      ]
     },
     "execution_count": 9,
     "metadata": {},
     "output_type": "execute_result"
    }
   ],
   "source": [
    "# verifying missing values inside the dataset\n",
    "df.isnull().sum().sort_values(ascending=True)"
   ]
  },
  {
   "cell_type": "markdown",
   "id": "99cf3c09",
   "metadata": {},
   "source": [
    "## Imputation of missing values"
   ]
  },
  {
   "cell_type": "markdown",
   "id": "c1fa7b32",
   "metadata": {},
   "source": [
    "### Libraries"
   ]
  },
  {
   "cell_type": "code",
   "execution_count": 10,
   "id": "ba8f89f9",
   "metadata": {},
   "outputs": [],
   "source": [
    "# libraries\n",
    "from sklearn.experimental import enable_iterative_imputer\n",
    "from sklearn.impute import IterativeImputer \n",
    "from sklearn.impute import SimpleImputer \n",
    "from sklearn.ensemble import RandomForestRegressor \n",
    "from sklearn.model_selection import train_test_split\n",
    "from sklearn.preprocessing import StandardScaler\n",
    "from sklearn.ensemble import RandomForestClassifier, GradientBoostingClassifier, AdaBoostClassifier\n",
    "from sklearn.svm import SVC\n",
    "from sklearn.neighbors import KNeighborsClassifier\n",
    "from sklearn.tree import DecisionTreeClassifier\n",
    "from sklearn.naive_bayes import GaussianNB\n",
    "from sklearn.neural_network import MLPClassifier\n",
    "from sklearn.linear_model import LogisticRegression\n",
    "from sklearn.metrics import confusion_matrix, accuracy_score, f1_score, fbeta_score\n",
    "from sklearn.preprocessing import LabelEncoder"
   ]
  },
  {
   "cell_type": "code",
   "execution_count": 11,
   "id": "aa4d98b4",
   "metadata": {},
   "outputs": [],
   "source": [
    "# selection of variables with missing values\n",
    "columns_with_missing_values = ['Rest Time', 'Rest Per Bout', 'Restlessness Ratio']\n",
    "\n",
    "# Performing multiple imputation techniques to impute the variables with the missing values\n",
    "imputer_mice = IterativeImputer(estimator=RandomForestRegressor(), random_state=0)\n",
    "df[columns_with_missing_values] = imputer_mice.fit_transform(df[columns_with_missing_values].astype(float))"
   ]
  },
  {
   "cell_type": "markdown",
   "id": "d777d6f2",
   "metadata": {},
   "source": [
    "## Conversion of Data types"
   ]
  },
  {
   "cell_type": "code",
   "execution_count": 12,
   "id": "69f290a3",
   "metadata": {},
   "outputs": [],
   "source": [
    "# Converting date columns to datetime format\n",
    "df['Date'] = pd.to_datetime(df['Date'])\n",
    "df['Calving Date'] = pd.to_datetime(df['Calving Date'])\n",
    "df['Insemination Date'] = pd.to_datetime(df['Insemination Date'])\n",
    "\n",
    "# Converting datetime columns to numerical datatype\n",
    "df['Date'] = df['Date'].apply(lambda x: x.timestamp()).astype(int)\n",
    "df['Calving Date'] = df['Calving Date'].apply(lambda x: x.timestamp()).astype(int)\n",
    "df['Insemination Date'] = df['Insemination Date'].apply(lambda x: x.timestamp()).astype(int)"
   ]
  },
  {
   "cell_type": "markdown",
   "id": "3b069c1b",
   "metadata": {},
   "source": [
    "## Encoding Categorical variables"
   ]
  },
  {
   "cell_type": "code",
   "execution_count": 13,
   "id": "e62e39a1",
   "metadata": {},
   "outputs": [],
   "source": [
    "# Encoding the categorical variables \n",
    "label_encoder = LabelEncoder()\n",
    "df['Calving Time'] = label_encoder.fit_transform(df['Calving Time'])\n",
    "df['Days Pregnancy 1'] = label_encoder.fit_transform(df['Days Pregnancy 1'])\n",
    "df['Calving Season'] = label_encoder.fit_transform(df['Calving Season'])\n",
    "df['Breed'] = label_encoder.fit_transform(df['Breed'])\n",
    "df['Lact No'] = label_encoder.fit_transform(df['Lact No'])\n",
    "df['Lactation No'] = label_encoder.fit_transform(df['Lactation No'])\n",
    "df['Manner Of Calving'] = label_encoder.fit_transform(df['Manner Of Calving'])\n",
    "df['Parity'] = label_encoder.fit_transform(df['Parity'])"
   ]
  },
  {
   "cell_type": "markdown",
   "id": "9f880653",
   "metadata": {},
   "source": [
    "## Feature selection"
   ]
  },
  {
   "cell_type": "code",
   "execution_count": 166,
   "id": "b6c822b9",
   "metadata": {},
   "outputs": [],
   "source": [
    "# Independent variables of dataset\n",
    "X = df[['Activity', 'Rest Time', 'Rest Per Bout', 'Restlessness Ratio', 'Lactation No', 'Month of Sensor Attachment']]\n",
    "\n",
    "# Dependent variable of dataset\n",
    "y = df['Calved']"
   ]
  },
  {
   "cell_type": "markdown",
   "id": "901c6818",
   "metadata": {},
   "source": [
    "## Spliting data set"
   ]
  },
  {
   "cell_type": "code",
   "execution_count": 167,
   "id": "c52f2ab0",
   "metadata": {},
   "outputs": [],
   "source": [
    "# Splitting the dataset into training and testing dataset\n",
    "X_train, X_test, y_train, y_test = train_test_split(X, y, test_size=0.2, random_state=4455)"
   ]
  },
  {
   "cell_type": "markdown",
   "id": "fd54019a",
   "metadata": {},
   "source": [
    "## Feature Scaling"
   ]
  },
  {
   "cell_type": "code",
   "execution_count": 168,
   "id": "aa2556d5",
   "metadata": {},
   "outputs": [],
   "source": [
    "# Feature Scaling\n",
    "scaler = StandardScaler()\n",
    "X_train_scaled = scaler.fit_transform(X_train)\n",
    "X_test_scaled = scaler.transform(X_test)"
   ]
  },
  {
   "cell_type": "markdown",
   "id": "da81f4d3",
   "metadata": {},
   "source": [
    "##  Random Forest"
   ]
  },
  {
   "cell_type": "code",
   "execution_count": 156,
   "id": "06c77a33",
   "metadata": {},
   "outputs": [],
   "source": [
    "# Random Forest\n",
    "random_forest = RandomForestClassifier()\n",
    "random_forest.fit(X_train_scaled, y_train)\n",
    "random_forest_predictions = random_forest.predict(X_test_scaled)\n",
    "random_forest_conf_matrix = confusion_matrix(y_test, random_forest_predictions)\n",
    "\n",
    "# Calculating evaluation metrics\n",
    "# Sensitivity, Specificity, PPV, NPV, Accuracy, F2 Score\n",
    "random_forest_sensitivity = random_forest_conf_matrix[1, 1] / (random_forest_conf_matrix[1, 1] + random_forest_conf_matrix[1, 0]) * 100\n",
    "random_forest_specificity = random_forest_conf_matrix[0, 0] / (random_forest_conf_matrix[0, 0] + random_forest_conf_matrix[0, 1]) * 100\n",
    "random_forest_ppv = random_forest_conf_matrix[1, 1] / (random_forest_conf_matrix[1, 1] + random_forest_conf_matrix[0, 1]) * 100\n",
    "random_forest_npv = random_forest_conf_matrix[0, 0] / (random_forest_conf_matrix[0, 0] + random_forest_conf_matrix[1, 0]) * 100\n",
    "random_forest_accuracy = accuracy_score(y_test, random_forest_predictions) * 100\n",
    "# Calculating F2 score for Random Forest\n",
    "beta = 2\n",
    "random_forest_f2 = fbeta_score(y_test, random_forest_predictions, beta=beta, average='weighted') * 100"
   ]
  },
  {
   "cell_type": "markdown",
   "id": "730f5aa4",
   "metadata": {},
   "source": [
    "## Printing Results"
   ]
  },
  {
   "cell_type": "code",
   "execution_count": 157,
   "id": "5da3e82e",
   "metadata": {},
   "outputs": [
    {
     "name": "stdout",
     "output_type": "stream",
     "text": [
      "Random Forest:\n",
      "Confusion Matrix:\n",
      "[[775  10   0]\n",
      " [ 29  24   2]\n",
      " [ 44   5   2]]\n",
      "Sensitivity: 45.28%\n",
      "Specificity: 98.73%\n",
      "Positive Predictive Value: 70.59%\n",
      "Negative Predictive Value: 96.39%\n",
      "Accuracy Score: 89.90%\n",
      "F2 Score: 88.74%\n",
      "\n"
     ]
    }
   ],
   "source": [
    "# Printing results for Random Forest with F2 score\n",
    "print('Random Forest:')\n",
    "print('Confusion Matrix:')\n",
    "print(random_forest_conf_matrix)\n",
    "print('Sensitivity: {:.2f}%'.format(random_forest_sensitivity))\n",
    "print('Specificity: {:.2f}%'.format(random_forest_specificity))\n",
    "print('Positive Predictive Value: {:.2f}%'.format(random_forest_ppv))\n",
    "print('Negative Predictive Value: {:.2f}%'.format(random_forest_npv))\n",
    "print('Accuracy Score: {:.2f}%'.format(random_forest_accuracy))\n",
    "print('F2 Score: {:.2f}%'.format(random_forest_f2))\n",
    "print()"
   ]
  },
  {
   "cell_type": "markdown",
   "id": "6c4bffe0",
   "metadata": {},
   "source": [
    "# Gradient Boosting"
   ]
  },
  {
   "cell_type": "code",
   "execution_count": 169,
   "id": "3e814081",
   "metadata": {},
   "outputs": [],
   "source": [
    "# Gradient Boosting\n",
    "gradient_boosting = GradientBoostingClassifier()\n",
    "gradient_boosting.fit(X_train_scaled, y_train)\n",
    "gradient_boosting_predictions = gradient_boosting.predict(X_test_scaled)\n",
    "gradient_boosting_conf_matrix = confusion_matrix(y_test, gradient_boosting_predictions)\n",
    "\n",
    "# Calculating evaluation metrics\n",
    "# Sensitivity, Specificity, PPV, NPV, Accuracy, F1 Score, F2 Score\n",
    "gradient_boosting_sensitivity = gradient_boosting_conf_matrix[1, 1] / (gradient_boosting_conf_matrix[1, 1] + gradient_boosting_conf_matrix[1, 0]) * 100\n",
    "gradient_boosting_specificity = gradient_boosting_conf_matrix[0, 0] / (gradient_boosting_conf_matrix[0, 0] + gradient_boosting_conf_matrix[0, 1]) * 100\n",
    "gradient_boosting_ppv = gradient_boosting_conf_matrix[1, 1] / (gradient_boosting_conf_matrix[1, 1] + gradient_boosting_conf_matrix[0, 1]) * 100\n",
    "gradient_boosting_npv = gradient_boosting_conf_matrix[0, 0] / (gradient_boosting_conf_matrix[0, 0] + gradient_boosting_conf_matrix[1, 0]) * 100\n",
    "gradient_boosting_accuracy = accuracy_score(y_test, gradient_boosting_predictions) * 100\n",
    "gradient_boosting_f1 = f1_score(y_test, gradient_boosting_predictions, average='weighted') * 100\n",
    "# Calculating F2 score for Gradient Boosting\n",
    "beta = 2\n",
    "gradient_boosting_f2 = fbeta_score(y_test, gradient_boosting_predictions, beta=beta, average='weighted') * 100"
   ]
  },
  {
   "cell_type": "markdown",
   "id": "cffc985a",
   "metadata": {},
   "source": [
    "## Printing Results"
   ]
  },
  {
   "cell_type": "code",
   "execution_count": 170,
   "id": "ba4a56c5",
   "metadata": {},
   "outputs": [
    {
     "name": "stdout",
     "output_type": "stream",
     "text": [
      "Gradient Boosting:\n",
      "Confusion Matrix:\n",
      "[[772  10   3]\n",
      " [ 32  20   3]\n",
      " [ 45   5   1]]\n",
      "Sensitivity: 38.46%\n",
      "Specificity: 98.72%\n",
      "Positive Predictive Value: 66.67%\n",
      "Negative Predictive Value: 96.02%\n",
      "Accuracy Score: 89.00%\n",
      "F1 Score: 86.19%\n",
      "F2 Score: 87.81%\n",
      "\n"
     ]
    }
   ],
   "source": [
    "# Printing results for Gradient Boosting with F1 and F2 scores\n",
    "print('Gradient Boosting:')\n",
    "print('Confusion Matrix:')\n",
    "print(gradient_boosting_conf_matrix)\n",
    "print('Sensitivity: {:.2f}%'.format(gradient_boosting_sensitivity))\n",
    "print('Specificity: {:.2f}%'.format(gradient_boosting_specificity))\n",
    "print('Positive Predictive Value: {:.2f}%'.format(gradient_boosting_ppv))\n",
    "print('Negative Predictive Value: {:.2f}%'.format(gradient_boosting_npv))\n",
    "print('Accuracy Score: {:.2f}%'.format(gradient_boosting_accuracy))\n",
    "print('F1 Score: {:.2f}%'.format(gradient_boosting_f1))\n",
    "print('F2 Score: {:.2f}%'.format(gradient_boosting_f2))\n",
    "print()"
   ]
  },
  {
   "cell_type": "markdown",
   "id": "de1de2b6",
   "metadata": {},
   "source": [
    "## Decision Tree"
   ]
  },
  {
   "cell_type": "code",
   "execution_count": 126,
   "id": "c7b5454d",
   "metadata": {},
   "outputs": [],
   "source": [
    "# Decision Tree\n",
    "decision_tree = DecisionTreeClassifier()\n",
    "decision_tree.fit(X_train_scaled, y_train)\n",
    "decision_tree_predictions = decision_tree.predict(X_test_scaled)\n",
    "decision_tree_conf_matrix = confusion_matrix(y_test, decision_tree_predictions)\n",
    "\n",
    "# Sensitivity\n",
    "decision_tree_sensitivity = decision_tree_conf_matrix[1, 1] / (decision_tree_conf_matrix[1, 1] + decision_tree_conf_matrix[1, 0]) * 100\n",
    "# Specificity\n",
    "decision_tree_specificity = decision_tree_conf_matrix[0, 0] / (decision_tree_conf_matrix[0, 0] + decision_tree_conf_matrix[0, 1]) * 100\n",
    "# Positive Predictive Value (PPV)\n",
    "decision_tree_ppv = decision_tree_conf_matrix[1, 1] / (decision_tree_conf_matrix[1, 1] + decision_tree_conf_matrix[0, 1]) * 100\n",
    "# Negative Predictive Value (NPV)\n",
    "decision_tree_npv = decision_tree_conf_matrix[0, 0] / (decision_tree_conf_matrix[0, 0] + decision_tree_conf_matrix[1, 0]) * 100\n",
    "# Accuracy\n",
    "decision_tree_accuracy = accuracy_score(y_test, decision_tree_predictions) * 100\n",
    "# F1 Score\n",
    "decision_tree_f1 = f1_score(y_test, decision_tree_predictions, average='weighted') * 100\n",
    "# F2 Score\n",
    "beta = 2\n",
    "decision_tree_f2 = fbeta_score(y_test, decision_tree_predictions, beta=beta, average='weighted') * 100"
   ]
  },
  {
   "cell_type": "markdown",
   "id": "cf421302",
   "metadata": {},
   "source": [
    "## Printing results"
   ]
  },
  {
   "cell_type": "code",
   "execution_count": 127,
   "id": "6bcd0811",
   "metadata": {},
   "outputs": [
    {
     "name": "stdout",
     "output_type": "stream",
     "text": [
      "Decision Tree:\n",
      "Confusion Matrix:\n",
      "[[695  39  51]\n",
      " [ 25  23   7]\n",
      " [ 40   8   3]]\n",
      "Sensitivity: 47.92%\n",
      "Specificity: 94.69%\n",
      "Positive Predictive Value: 37.10%\n",
      "Negative Predictive Value: 96.53%\n",
      "Accuracy Score: 80.92%\n",
      "F1 Score: 81.84%\n",
      "F2 Score: 81.27%\n",
      "\n"
     ]
    }
   ],
   "source": [
    "# Printing results for Decision Tree (DT) with F1 and F2 scores\n",
    "print('Decision Tree:')\n",
    "print('Confusion Matrix:')\n",
    "print(decision_tree_conf_matrix)\n",
    "print('Sensitivity: {:.2f}%'.format(decision_tree_sensitivity))\n",
    "print('Specificity: {:.2f}%'.format(decision_tree_specificity))\n",
    "print('Positive Predictive Value: {:.2f}%'.format(decision_tree_ppv))\n",
    "print('Negative Predictive Value: {:.2f}%'.format(decision_tree_npv))\n",
    "print('Accuracy Score: {:.2f}%'.format(decision_tree_accuracy))\n",
    "print('F1 Score: {:.2f}%'.format(decision_tree_f1))\n",
    "print('F2 Score: {:.2f}%'.format(decision_tree_f2))\n",
    "print()"
   ]
  },
  {
   "cell_type": "markdown",
   "id": "cf6b5d13",
   "metadata": {},
   "source": [
    "## Naive Bayes"
   ]
  },
  {
   "cell_type": "code",
   "execution_count": 139,
   "id": "70d4e6ae",
   "metadata": {},
   "outputs": [],
   "source": [
    "# Naive Bayes\n",
    "naive_bayes = GaussianNB()\n",
    "naive_bayes.fit(X_train_scaled, y_train)\n",
    "naive_bayes_predictions = naive_bayes.predict(X_test_scaled)\n",
    "naive_bayes_conf_matrix = confusion_matrix(y_test, naive_bayes_predictions)\n",
    "\n",
    "# Sensitivity\n",
    "naive_bayes_sensitivity = naive_bayes_conf_matrix[1, 1] / (naive_bayes_conf_matrix[1, 1] + naive_bayes_conf_matrix[1, 0]) * 100\n",
    "# Specificity\n",
    "naive_bayes_specificity = naive_bayes_conf_matrix[0, 0] / (naive_bayes_conf_matrix[0, 0] + naive_bayes_conf_matrix[0, 1]) * 100\n",
    "# Positive Predictive Value (PPV)\n",
    "naive_bayes_ppv = naive_bayes_conf_matrix[1, 1] / (naive_bayes_conf_matrix[1, 1] + naive_bayes_conf_matrix[0, 1]) * 100\n",
    "# Negative Predictive Value (NPV)\n",
    "naive_bayes_npv = naive_bayes_conf_matrix[0, 0] / (naive_bayes_conf_matrix[0, 0] + naive_bayes_conf_matrix[1, 0]) * 100\n",
    "# Accuracy\n",
    "naive_bayes_accuracy = accuracy_score(y_test, naive_bayes_predictions) * 100\n",
    "# F1 Score\n",
    "naive_bayes_f1 = f1_score(y_test, naive_bayes_predictions, average='weighted') * 100\n",
    "# F2 Score\n",
    "beta = 2\n",
    "naive_bayes_f2 = fbeta_score(y_test, naive_bayes_predictions, beta=beta, average='weighted') * 100"
   ]
  },
  {
   "cell_type": "markdown",
   "id": "592b0c1f",
   "metadata": {},
   "source": [
    "## Printing results"
   ]
  },
  {
   "cell_type": "code",
   "execution_count": 140,
   "id": "87a522ce",
   "metadata": {},
   "outputs": [
    {
     "name": "stdout",
     "output_type": "stream",
     "text": [
      "Naive Bayes:\n",
      "Confusion Matrix:\n",
      "[[745  19  21]\n",
      " [ 26  25   4]\n",
      " [ 41   8   2]]\n",
      "Sensitivity: 49.02%\n",
      "Specificity: 97.51%\n",
      "Positive Predictive Value: 56.82%\n",
      "Negative Predictive Value: 96.63%\n",
      "Accuracy Score: 86.64%\n",
      "F1 Score: 85.38%\n",
      "F2 Score: 86.13%\n",
      "\n"
     ]
    }
   ],
   "source": [
    "# Printing results for Naive Bayes with F1 and F2 scores\n",
    "print('Naive Bayes:')\n",
    "print('Confusion Matrix:')\n",
    "print(naive_bayes_conf_matrix)\n",
    "print('Sensitivity: {:.2f}%'.format(naive_bayes_sensitivity))\n",
    "print('Specificity: {:.2f}%'.format(naive_bayes_specificity))\n",
    "print('Positive Predictive Value: {:.2f}%'.format(naive_bayes_ppv))\n",
    "print('Negative Predictive Value: {:.2f}%'.format(naive_bayes_npv))\n",
    "print('Accuracy Score: {:.2f}%'.format(naive_bayes_accuracy))\n",
    "print('F1 Score: {:.2f}%'.format(naive_bayes_f1))\n",
    "print('F2 Score: {:.2f}%'.format(naive_bayes_f2))\n",
    "print()"
   ]
  },
  {
   "cell_type": "markdown",
   "id": "4d87b95d",
   "metadata": {},
   "source": [
    "## Neural Network"
   ]
  },
  {
   "cell_type": "code",
   "execution_count": 151,
   "id": "05536354",
   "metadata": {},
   "outputs": [],
   "source": [
    "# Neural Network (Multilayer Perceptron)\n",
    "mlp = MLPClassifier()\n",
    "mlp.fit(X_train_scaled, y_train)\n",
    "mlp_predictions = mlp.predict(X_test_scaled)\n",
    "mlp_conf_matrix = confusion_matrix(y_test, mlp_predictions)\n",
    "\n",
    "# Sensitivity\n",
    "mlp_sensitivity = mlp_conf_matrix[1, 1] / (mlp_conf_matrix[1, 1] + mlp_conf_matrix[1, 0]) * 100\n",
    "# Specificity\n",
    "mlp_specificity = mlp_conf_matrix[0, 0] / (mlp_conf_matrix[0, 0] + mlp_conf_matrix[0, 1]) * 100\n",
    "# Positive Predictive Value (PPV)\n",
    "mlp_ppv = mlp_conf_matrix[1, 1] / (mlp_conf_matrix[1, 1] + mlp_conf_matrix[0, 1]) * 100\n",
    "# Negative Predictive Value (NPV)\n",
    "mlp_npv = mlp_conf_matrix[0, 0] / (mlp_conf_matrix[0, 0] + mlp_conf_matrix[1, 0]) * 100\n",
    "# Accuracy\n",
    "mlp_accuracy = accuracy_score(y_test, mlp_predictions) * 100\n",
    "# F1 Score\n",
    "mlp_f1 = f1_score(y_test, mlp_predictions, average='weighted') * 100\n",
    "# F2 Score\n",
    "beta = 2\n",
    "mlp_f2 = fbeta_score(y_test, mlp_predictions, beta=beta, average='weighted') * 100"
   ]
  },
  {
   "cell_type": "markdown",
   "id": "fe055a16",
   "metadata": {},
   "source": [
    "## Printing Results"
   ]
  },
  {
   "cell_type": "code",
   "execution_count": 152,
   "id": "f5b31018",
   "metadata": {},
   "outputs": [
    {
     "name": "stdout",
     "output_type": "stream",
     "text": [
      "Neural Network (Multilayer Perceptron):\n",
      "Confusion Matrix:\n",
      "[[776   9   0]\n",
      " [ 29  25   1]\n",
      " [ 46   5   0]]\n",
      "Sensitivity: 46.30%\n",
      "Specificity: 98.85%\n",
      "Positive Predictive Value: 73.53%\n",
      "Negative Predictive Value: 96.40%\n",
      "Accuracy Score: 89.90%\n",
      "F1 Score: 86.86%\n",
      "F2 Score: 88.63%\n",
      "\n"
     ]
    }
   ],
   "source": [
    "# Printing results for Multilayer Perceptron with F1 and F2 scores\n",
    "print('Neural Network (Multilayer Perceptron):')\n",
    "print('Confusion Matrix:')\n",
    "print(mlp_conf_matrix)\n",
    "print('Sensitivity: {:.2f}%'.format(mlp_sensitivity))\n",
    "print('Specificity: {:.2f}%'.format(mlp_specificity))\n",
    "print('Positive Predictive Value: {:.2f}%'.format(mlp_ppv))\n",
    "print('Negative Predictive Value: {:.2f}%'.format(mlp_npv))\n",
    "print('Accuracy Score: {:.2f}%'.format(mlp_accuracy))\n",
    "print('F1 Score: {:.2f}%'.format(mlp_f1))\n",
    "print('F2 Score: {:.2f}%'.format(mlp_f2))\n",
    "print()"
   ]
  },
  {
   "cell_type": "markdown",
   "id": "6fe47c56",
   "metadata": {},
   "source": [
    "## Logistic Regression"
   ]
  },
  {
   "cell_type": "code",
   "execution_count": 27,
   "id": "c5d56536",
   "metadata": {},
   "outputs": [],
   "source": [
    "# Logistic Regression\n",
    "logistic_reg = LogisticRegression(multi_class='ovr', solver='liblinear')\n",
    "logistic_reg.fit(X_train_scaled, y_train)\n",
    "logistic_reg_predictions = logistic_reg.predict(X_test_scaled)\n",
    "logistic_reg_conf_matrix = confusion_matrix(y_test, logistic_reg_predictions)\n",
    "\n",
    "# Calculating evaluation metrics\n",
    "# Sensitivity, Specificity, PPV, NPV, Accuracy, F2 Score\n",
    "logistic_reg_sensitivity = logistic_reg_conf_matrix[1, 1] / (logistic_reg_conf_matrix[1, 1] + logistic_reg_conf_matrix[1, 0]) * 100\n",
    "logistic_reg_specificity = logistic_reg_conf_matrix[0, 0] / (logistic_reg_conf_matrix[0, 0] + logistic_reg_conf_matrix[0, 1]) * 100\n",
    "logistic_reg_ppv = logistic_reg_conf_matrix[1, 1] / (logistic_reg_conf_matrix[1, 1] + logistic_reg_conf_matrix[0, 1]) * 100\n",
    "logistic_reg_npv = logistic_reg_conf_matrix[0, 0] / (logistic_reg_conf_matrix[0, 0] + logistic_reg_conf_matrix[1, 0]) * 100\n",
    "logistic_reg_accuracy = accuracy_score(y_test, logistic_reg_predictions) * 100\n",
    "# Calculating F2 score for Logistic Regression\n",
    "beta = 2\n",
    "logistic_reg_f2 = fbeta_score(y_test, logistic_reg_predictions, beta=beta, average='weighted') * 100\n"
   ]
  },
  {
   "cell_type": "markdown",
   "id": "90170e42",
   "metadata": {},
   "source": [
    "## Printing Results"
   ]
  },
  {
   "cell_type": "code",
   "execution_count": 28,
   "id": "6ff73241",
   "metadata": {},
   "outputs": [
    {
     "name": "stdout",
     "output_type": "stream",
     "text": [
      "Logistic Regression (Different Values for Day Before and Day of Calving):\n",
      "Confusion Matrix:\n",
      "[[783   0   2]\n",
      " [ 42  13   0]\n",
      " [ 48   3   0]]\n",
      "Sensitivity: 23.64%\n",
      "Specificity: 100.00%\n",
      "Positive Predictive Value: 100.00%\n",
      "Negative Predictive Value: 94.91%\n",
      "Accuracy Score: 89.34%\n",
      "F2 Score: 87.65%\n"
     ]
    }
   ],
   "source": [
    "# Printing results for Logistic Regression\n",
    "print('Logistic Regression (Different Values for Day Before and Day of Calving):')\n",
    "print('Confusion Matrix:')\n",
    "print(logistic_reg_conf_matrix)\n",
    "print('Sensitivity: {:.2f}%'.format(logistic_reg_sensitivity))\n",
    "print('Specificity: {:.2f}%'.format(logistic_reg_specificity))\n",
    "print('Positive Predictive Value: {:.2f}%'.format(logistic_reg_ppv))\n",
    "print('Negative Predictive Value: {:.2f}%'.format(logistic_reg_npv))\n",
    "print('Accuracy Score: {:.2f}%'.format(logistic_reg_accuracy))\n",
    "print('F2 Score: {:.2f}%'.format(logistic_reg_f2))"
   ]
  },
  {
   "cell_type": "markdown",
   "id": "8993df88",
   "metadata": {},
   "source": [
    "## Supprot Vector Machine (SVM)"
   ]
  },
  {
   "cell_type": "code",
   "execution_count": 29,
   "id": "15bcaecb",
   "metadata": {},
   "outputs": [],
   "source": [
    "# Support Vector Machine (SVM)\n",
    "svm = SVC()\n",
    "svm.fit(X_train_scaled, y_train)\n",
    "svm_predictions = svm.predict(X_test_scaled)\n",
    "svm_conf_matrix = confusion_matrix(y_test, svm_predictions)\n",
    "\n",
    "# Calculating evaluation metrics\n",
    "# Sensitivity, Specificity, PPV, NPV, Accuracy, F1 Score, F2 Score\n",
    "svm_sensitivity = svm_conf_matrix[1, 1] / (svm_conf_matrix[1, 1] + svm_conf_matrix[1, 0]) * 100\n",
    "svm_specificity = svm_conf_matrix[0, 0] / (svm_conf_matrix[0, 0] + svm_conf_matrix[0, 1]) * 100\n",
    "svm_ppv = svm_conf_matrix[1, 1] / (svm_conf_matrix[1, 1] + svm_conf_matrix[0, 1]) * 100\n",
    "svm_npv = svm_conf_matrix[0, 0] / (svm_conf_matrix[0, 0] + svm_conf_matrix[1, 0]) * 100\n",
    "svm_accuracy = accuracy_score(y_test, svm_predictions) * 100\n",
    "svm_f1 = f1_score(y_test, svm_predictions, average='weighted') * 100\n",
    "# Calculating F2 score for Support Vector Machine (SVM)\n",
    "beta = 2\n",
    "svm_f2 = fbeta_score(y_test, svm_predictions, beta=beta, average='weighted') * 100"
   ]
  },
  {
   "cell_type": "markdown",
   "id": "76e931db",
   "metadata": {},
   "source": [
    "## Printing Results"
   ]
  },
  {
   "cell_type": "code",
   "execution_count": 30,
   "id": "4b0b408a",
   "metadata": {},
   "outputs": [
    {
     "name": "stdout",
     "output_type": "stream",
     "text": [
      "Support Vector Machine (SVM):\n",
      "Confusion Matrix:\n",
      "[[778   7   0]\n",
      " [ 36  19   0]\n",
      " [ 46   5   0]]\n",
      "Sensitivity: 34.55%\n",
      "Specificity: 99.11%\n",
      "Positive Predictive Value: 73.08%\n",
      "Negative Predictive Value: 95.58%\n",
      "Accuracy Score: 89.45%\n",
      "F1 Score: 86.06%\n",
      "F2 Score: 88.02%\n",
      "\n"
     ]
    }
   ],
   "source": [
    "# Printing results for Support Vector Machine (SVM) with F1 and F2 scores\n",
    "print('Support Vector Machine (SVM):')\n",
    "print('Confusion Matrix:')\n",
    "print(svm_conf_matrix)\n",
    "print('Sensitivity: {:.2f}%'.format(svm_sensitivity))\n",
    "print('Specificity: {:.2f}%'.format(svm_specificity))\n",
    "print('Positive Predictive Value: {:.2f}%'.format(svm_ppv))\n",
    "print('Negative Predictive Value: {:.2f}%'.format(svm_npv))\n",
    "print('Accuracy Score: {:.2f}%'.format(svm_accuracy))\n",
    "print('F1 Score: {:.2f}%'.format(svm_f1))\n",
    "print('F2 Score: {:.2f}%'.format(svm_f2))\n",
    "print()"
   ]
  },
  {
   "cell_type": "markdown",
   "id": "b7c036fa",
   "metadata": {},
   "source": [
    "## K- Nearest Neighbor (KNN)"
   ]
  },
  {
   "cell_type": "code",
   "execution_count": 31,
   "id": "22a6e0e9",
   "metadata": {},
   "outputs": [],
   "source": [
    "# K-nearest neighbors (KNN)\n",
    "knn = KNeighborsClassifier()\n",
    "knn.fit(X_train_scaled, y_train)\n",
    "knn_predictions = knn.predict(X_test_scaled)\n",
    "knn_conf_matrix = confusion_matrix(y_test, knn_predictions)\n",
    "\n",
    "# Calculating evaluation metrics\n",
    "# Sensitivity, Specificity, PPV, NPV, Accuracy, F2 Score\n",
    "knn_sensitivity = knn_conf_matrix[1, 1] / (knn_conf_matrix[1, 1] + knn_conf_matrix[1, 0]) * 100\n",
    "knn_specificity = knn_conf_matrix[0, 0] / (knn_conf_matrix[0, 0] + knn_conf_matrix[0, 1]) * 100\n",
    "knn_ppv = knn_conf_matrix[1, 1] / (knn_conf_matrix[1, 1] + knn_conf_matrix[0, 1]) * 100\n",
    "knn_npv = knn_conf_matrix[0, 0] / (knn_conf_matrix[0, 0] + knn_conf_matrix[1, 0]) * 100\n",
    "knn_accuracy = accuracy_score(y_test, knn_predictions) * 100\n",
    "# Calculating F2 score for K-nearest neighbors (KNN)\n",
    "beta = 2\n",
    "knn_f2 = fbeta_score(y_test, knn_predictions, beta=beta, average='weighted') * 100"
   ]
  },
  {
   "cell_type": "markdown",
   "id": "6a9bc5a5",
   "metadata": {},
   "source": [
    "## Printing Results"
   ]
  },
  {
   "cell_type": "code",
   "execution_count": 32,
   "id": "42b0b485",
   "metadata": {},
   "outputs": [
    {
     "name": "stdout",
     "output_type": "stream",
     "text": [
      "K-Nearest Neighbors (KNN):\n",
      "Confusion Matrix:\n",
      "[[770  12   3]\n",
      " [ 35  16   4]\n",
      " [ 47   3   1]]\n",
      "Sensitivity: 31.37%\n",
      "Specificity: 98.47%\n",
      "Positive Predictive Value: 57.14%\n",
      "Negative Predictive Value: 95.65%\n",
      "Accuracy Score: 88.33%\n",
      "F2 Score: 87.07%\n",
      "\n"
     ]
    }
   ],
   "source": [
    "# Printing results for K-nearest neighbors (KNN) with F2 score\n",
    "print('K-Nearest Neighbors (KNN):')\n",
    "print('Confusion Matrix:')\n",
    "print(knn_conf_matrix)\n",
    "print('Sensitivity: {:.2f}%'.format(knn_sensitivity))\n",
    "print('Specificity: {:.2f}%'.format(knn_specificity))\n",
    "print('Positive Predictive Value: {:.2f}%'.format(knn_ppv))\n",
    "print('Negative Predictive Value: {:.2f}%'.format(knn_npv))\n",
    "print('Accuracy Score: {:.2f}%'.format(knn_accuracy))\n",
    "print('F2 Score: {:.2f}%'.format(knn_f2))\n",
    "print()"
   ]
  },
  {
   "cell_type": "markdown",
   "id": "0cfb8f3d",
   "metadata": {},
   "source": [
    "## Ada Boost"
   ]
  },
  {
   "cell_type": "code",
   "execution_count": 33,
   "id": "5a1c3198",
   "metadata": {},
   "outputs": [],
   "source": [
    "# AdaBoost\n",
    "adaboost = AdaBoostClassifier()\n",
    "adaboost.fit(X_train_scaled, y_train)\n",
    "adaboost_predictions = adaboost.predict(X_test_scaled)\n",
    "adaboost_conf_matrix = confusion_matrix(y_test, adaboost_predictions)\n",
    "\n",
    "# Sensitivity\n",
    "adaboost_sensitivity = adaboost_conf_matrix[1, 1] / (adaboost_conf_matrix[1, 1] + adaboost_conf_matrix[1, 0]) * 100\n",
    "# Specificity\n",
    "adaboost_specificity = adaboost_conf_matrix[0, 0] / (adaboost_conf_matrix[0, 0] + adaboost_conf_matrix[0, 1]) * 100\n",
    "# Positive Predictive Value (PPV)\n",
    "adaboost_ppv = adaboost_conf_matrix[1, 1] / (adaboost_conf_matrix[1, 1] + adaboost_conf_matrix[0, 1]) * 100\n",
    "# Negative Predictive Value (NPV)\n",
    "adaboost_npv = adaboost_conf_matrix[0, 0] / (adaboost_conf_matrix[0, 0] + adaboost_conf_matrix[1, 0]) * 100\n",
    "# Accuracy\n",
    "adaboost_accuracy = accuracy_score(y_test, adaboost_predictions) * 100\n",
    "# F1 Score\n",
    "adaboost_f1 = f1_score(y_test, adaboost_predictions, average='weighted') * 100\n",
    "# F2 Score\n",
    "beta = 2\n",
    "adaboost_f2 = fbeta_score(y_test, adaboost_predictions, beta=beta, average='weighted') * 100"
   ]
  },
  {
   "cell_type": "markdown",
   "id": "9c8618b9",
   "metadata": {},
   "source": [
    "## Printing Results"
   ]
  },
  {
   "cell_type": "code",
   "execution_count": 34,
   "id": "7df3ba96",
   "metadata": {},
   "outputs": [
    {
     "name": "stdout",
     "output_type": "stream",
     "text": [
      "AdaBoost:\n",
      "Confusion Matrix:\n",
      "[[776   8   1]\n",
      " [ 38  13   4]\n",
      " [ 47   3   1]]\n",
      "Sensitivity: 25.49%\n",
      "Specificity: 98.98%\n",
      "Positive Predictive Value: 61.90%\n",
      "Negative Predictive Value: 95.33%\n",
      "Accuracy Score: 88.66%\n",
      "F1 Score: 85.30%\n",
      "F2 Score: 87.22%\n",
      "\n"
     ]
    }
   ],
   "source": [
    "# Printing results for AdaBoost with F1 and F2 scores\n",
    "print('AdaBoost:')\n",
    "print('Confusion Matrix:')\n",
    "print(adaboost_conf_matrix)\n",
    "print('Sensitivity: {:.2f}%'.format(adaboost_sensitivity))\n",
    "print('Specificity: {:.2f}%'.format(adaboost_specificity))\n",
    "print('Positive Predictive Value: {:.2f}%'.format(adaboost_ppv))\n",
    "print('Negative Predictive Value: {:.2f}%'.format(adaboost_npv))\n",
    "print('Accuracy Score: {:.2f}%'.format(adaboost_accuracy))\n",
    "print('F1 Score: {:.2f}%'.format(adaboost_f1))\n",
    "print('F2 Score: {:.2f}%'.format(adaboost_f2))\n",
    "print()"
   ]
  },
  {
   "cell_type": "markdown",
   "id": "9fffc4f6",
   "metadata": {},
   "source": [
    "## Kernal Support Vector Machine (KSVM)"
   ]
  },
  {
   "cell_type": "code",
   "execution_count": 35,
   "id": "78ab412d",
   "metadata": {},
   "outputs": [],
   "source": [
    "# Kernel Support Vector Machine (KSVM)\n",
    "kernel_svm = SVC(kernel='rbf')\n",
    "kernel_svm.fit(X_train_scaled, y_train)\n",
    "kernel_svm_predictions = kernel_svm.predict(X_test_scaled)\n",
    "kernel_svm_conf_matrix = confusion_matrix(y_test, kernel_svm_predictions)\n",
    "\n",
    "# Sensitivity\n",
    "kernel_svm_sensitivity = kernel_svm_conf_matrix[1, 1] / (kernel_svm_conf_matrix[1, 1] + kernel_svm_conf_matrix[1, 0]) * 100\n",
    "# Specificity\n",
    "kernel_svm_specificity = kernel_svm_conf_matrix[0, 0] / (kernel_svm_conf_matrix[0, 0] + kernel_svm_conf_matrix[0, 1]) * 100\n",
    "# Positive Predictive Value (PPV)\n",
    "kernel_svm_ppv = kernel_svm_conf_matrix[1, 1] / (kernel_svm_conf_matrix[1, 1] + kernel_svm_conf_matrix[0, 1]) * 100\n",
    "# Negative Predictive Value (NPV)\n",
    "kernel_svm_npv = kernel_svm_conf_matrix[0, 0] / (kernel_svm_conf_matrix[0, 0] + kernel_svm_conf_matrix[1, 0]) * 100\n",
    "# Accuracy\n",
    "kernel_svm_accuracy = accuracy_score(y_test, kernel_svm_predictions) * 100\n",
    "# F1 Score\n",
    "kernel_svm_f1 = f1_score(y_test, kernel_svm_predictions, average='weighted') * 100\n",
    "# F2 Score\n",
    "beta = 2\n",
    "kernel_svm_f2 = fbeta_score(y_test, kernel_svm_predictions, beta=beta, average='weighted') * 100"
   ]
  },
  {
   "cell_type": "markdown",
   "id": "ba27735a",
   "metadata": {},
   "source": [
    "## Printing Results"
   ]
  },
  {
   "cell_type": "code",
   "execution_count": 36,
   "id": "4000f4d2",
   "metadata": {},
   "outputs": [
    {
     "name": "stdout",
     "output_type": "stream",
     "text": [
      "Kernel Support Vector Machine (KSVM):\n",
      "Confusion Matrix:\n",
      "[[778   7   0]\n",
      " [ 36  19   0]\n",
      " [ 46   5   0]]\n",
      "Sensitivity: 34.55%\n",
      "Specificity: 99.11%\n",
      "Positive Predictive Value: 73.08%\n",
      "Negative Predictive Value: 95.58%\n",
      "Accuracy Score: 89.45%\n",
      "F1 Score: 86.06%\n",
      "F2 Score: 88.02%\n",
      "\n"
     ]
    }
   ],
   "source": [
    "# Printing results for Kernel Support Vector Machine (KSVM) with F1 and F2 scores\n",
    "print('Kernel Support Vector Machine (KSVM):')\n",
    "print('Confusion Matrix:')\n",
    "print(kernel_svm_conf_matrix)\n",
    "print('Sensitivity: {:.2f}%'.format(kernel_svm_sensitivity))\n",
    "print('Specificity: {:.2f}%'.format(kernel_svm_specificity))\n",
    "print('Positive Predictive Value: {:.2f}%'.format(kernel_svm_ppv))\n",
    "print('Negative Predictive Value: {:.2f}%'.format(kernel_svm_npv))\n",
    "print('Accuracy Score: {:.2f}%'.format(kernel_svm_accuracy))\n",
    "print('F1 Score: {:.2f}%'.format(kernel_svm_f1))\n",
    "print('F2 Score: {:.2f}%'.format(kernel_svm_f2))\n",
    "print()"
   ]
  },
  {
   "cell_type": "markdown",
   "id": "86e44fe4",
   "metadata": {},
   "source": [
    "# Feature Selection"
   ]
  },
  {
   "cell_type": "markdown",
   "id": "e876a0c0",
   "metadata": {},
   "source": [
    "## Library"
   ]
  },
  {
   "cell_type": "code",
   "execution_count": 37,
   "id": "a7e0aedb",
   "metadata": {},
   "outputs": [],
   "source": [
    "# Importing libraries\n",
    "import shap\n",
    "from sklearn.ensemble import RandomForestRegressor"
   ]
  },
  {
   "cell_type": "markdown",
   "id": "b7e09847",
   "metadata": {},
   "source": [
    "## Selection of model"
   ]
  },
  {
   "cell_type": "code",
   "execution_count": 38,
   "id": "51d07968",
   "metadata": {},
   "outputs": [],
   "source": [
    "# Creating the model\n",
    "model = RandomForestRegressor()"
   ]
  },
  {
   "cell_type": "markdown",
   "id": "6c7394b9",
   "metadata": {},
   "source": [
    "## Model fitting"
   ]
  },
  {
   "cell_type": "code",
   "execution_count": 39,
   "id": "c18223f1",
   "metadata": {},
   "outputs": [
    {
     "data": {
      "text/plain": [
       "RandomForestRegressor()"
      ]
     },
     "execution_count": 39,
     "metadata": {},
     "output_type": "execute_result"
    }
   ],
   "source": [
    "# Fitting the model to the training data\n",
    "model.fit(X_train_scaled, y_train)"
   ]
  },
  {
   "cell_type": "markdown",
   "id": "2ed471ad",
   "metadata": {},
   "source": [
    "## Explainer Object"
   ]
  },
  {
   "cell_type": "code",
   "execution_count": 40,
   "id": "8f43fa35",
   "metadata": {},
   "outputs": [],
   "source": [
    "# Creating an explainer object\n",
    "explainer = shap.Explainer(model)"
   ]
  },
  {
   "cell_type": "markdown",
   "id": "56df51a3",
   "metadata": {},
   "source": [
    "## Computation of SHAP values for all features"
   ]
  },
  {
   "cell_type": "code",
   "execution_count": 41,
   "id": "a97297fa",
   "metadata": {},
   "outputs": [],
   "source": [
    "# Computing SHAP values for all features\n",
    "shap_values = explainer(X_train_scaled)"
   ]
  },
  {
   "cell_type": "markdown",
   "id": "076febd1",
   "metadata": {},
   "source": [
    "## SHAP Plot"
   ]
  },
  {
   "cell_type": "code",
   "execution_count": 42,
   "id": "0d4a8004",
   "metadata": {},
   "outputs": [
    {
     "data": {
      "image/png": "[encoded data removed]",
      "text/plain": [
       "<Figure size 576x280.8 with 2 Axes>"
      ]
     },
     "metadata": {},
     "output_type": "display_data"
    }
   ],
   "source": [
    "# Setting the figure size\n",
    "plt.figure(figsize=(12, 10))\n",
    "\n",
    "# Plotting SHAP summary plot with feature names\n",
    "shap.summary_plot(shap_values, X_train_scaled, feature_names=X_train.columns, show=False)\n",
    "\n",
    "# Setting font style \n",
    "plt.rcParams['font.family'] = 'Times New Roman'\n",
    "\n",
    "# Customizing the appearance of the chart\n",
    "plt.grid(True, linestyle=\":\", linewidth=0.25)\n",
    "\n",
    "# Setting ticks, labels\n",
    "plt.xticks(fontsize=10, weight='bold', fontname='Times New Roman') \n",
    "plt.yticks(fontsize=10, weight='bold', fontname='Times New Roman')  \n",
    "plt.xlabel('SHAP values (impact on model output)', fontsize=12, weight='bold', fontname='Times New Roman')\n",
    "plt.ylabel('Features', fontsize=12, weight='bold', fontname='Times New Roman')\n",
    "\n",
    "# Saving the plot to a file\n",
    "plt.tight_layout(rect=[0, 0, 1, 0.96])\n",
    "plt.savefig('shap_summary.png', dpi=300, bbox_inches='tight')\n",
    "\n",
    "# Show the plot\n",
    "plt.show()\n",
    "\n",
    "# Closing the plot\n",
    "plt.close()"
   ]
  },
  {
   "cell_type": "markdown",
   "id": "e1effb18",
   "metadata": {},
   "source": [
    "# Valadations of machine learning models"
   ]
  },
  {
   "cell_type": "markdown",
   "id": "a84a48fd",
   "metadata": {},
   "source": [
    "## Libraries"
   ]
  },
  {
   "cell_type": "code",
   "execution_count": 43,
   "id": "f140604a",
   "metadata": {},
   "outputs": [],
   "source": [
    "# Importing libraries\n",
    "from sklearn.model_selection import train_test_split, cross_val_score, StratifiedKFold\n",
    "from sklearn.model_selection import train_test_split, cross_val_score, GridSearchCV\n",
    "from sklearn.ensemble import VotingClassifier\n",
    "from sklearn.metrics import confusion_matrix, accuracy_score  "
   ]
  },
  {
   "cell_type": "markdown",
   "id": "ed15d5df",
   "metadata": {},
   "source": [
    "## Holdout validation"
   ]
  },
  {
   "cell_type": "code",
   "execution_count": 44,
   "id": "b882d015",
   "metadata": {},
   "outputs": [],
   "source": [
    "# Generating predictions\n",
    "logistic_reg_predictions = logistic_reg_predictions\n",
    "random_forest_predictions = random_forest_predictions\n",
    "gradient_boosting_predictions = gradient_boosting_predictions\n",
    "svm_predictions = svm_predictions\n",
    "knn_predictions = knn_predictions\n",
    "decision_tree_predictions = decision_tree_predictions\n",
    "naive_bayes_predictions = naive_bayes_predictions\n",
    "mlp_predictions = mlp_predictions\n",
    "adaboost_predictions = adaboost_predictions"
   ]
  },
  {
   "cell_type": "markdown",
   "id": "7f5bd880",
   "metadata": {},
   "source": [
    "## Evalaution metrics"
   ]
  },
  {
   "cell_type": "code",
   "execution_count": 45,
   "id": "42657409",
   "metadata": {},
   "outputs": [],
   "source": [
    "# Calculating accuracy\n",
    "logistic_reg_accuracy = accuracy_score(y_test, logistic_reg_predictions)\n",
    "random_forest_accuracy = accuracy_score(y_test, random_forest_predictions)\n",
    "gradient_boosting_accuracy = accuracy_score(y_test, gradient_boosting_predictions)\n",
    "svm_accuracy = accuracy_score(y_test, svm_predictions)\n",
    "knn_accuracy = accuracy_score(y_test, knn_predictions)\n",
    "decision_tree_accuracy = accuracy_score(y_test, decision_tree_predictions)\n",
    "naive_bayes_accuracy = accuracy_score(y_test, naive_bayes_predictions)\n",
    "mlp_accuracy = accuracy_score(y_test, mlp_predictions)\n",
    "adaboost_accuracy = accuracy_score(y_test, adaboost_predictions)"
   ]
  },
  {
   "cell_type": "markdown",
   "id": "6b43ab14",
   "metadata": {},
   "source": [
    "## Printing results"
   ]
  },
  {
   "cell_type": "code",
   "execution_count": 46,
   "id": "a1e13666",
   "metadata": {},
   "outputs": [
    {
     "name": "stdout",
     "output_type": "stream",
     "text": [
      "Holdout Validation Results:\n",
      "Logistic Regression Accuracy: 89.34%\n",
      "Random Forest Accuracy: 89.79%\n",
      "Gradient Boosting Accuracy: 89.00%\n",
      "SVM Accuracy: 89.45%\n",
      "KNN Accuracy: 88.33%\n",
      "Decision Tree Accuracy: 80.25%\n",
      "Naive Bayes Accuracy: 86.64%\n",
      "MLP Accuracy: 89.67%\n",
      "AdaBoost Accuracy: 88.66%\n"
     ]
    }
   ],
   "source": [
    "# Printing the developed evaluation metrics\n",
    "print('Holdout Validation Results:')\n",
    "print('Logistic Regression Accuracy: {:.2f}%'.format(logistic_reg_accuracy * 100))\n",
    "print('Random Forest Accuracy: {:.2f}%'.format(random_forest_accuracy * 100))\n",
    "print('Gradient Boosting Accuracy: {:.2f}%'.format(gradient_boosting_accuracy * 100))\n",
    "print('SVM Accuracy: {:.2f}%'.format(svm_accuracy * 100))\n",
    "print('KNN Accuracy: {:.2f}%'.format(knn_accuracy * 100))\n",
    "print('Decision Tree Accuracy: {:.2f}%'.format(decision_tree_accuracy * 100))\n",
    "print('Naive Bayes Accuracy: {:.2f}%'.format(naive_bayes_accuracy * 100))\n",
    "print('MLP Accuracy: {:.2f}%'.format(mlp_accuracy * 100))\n",
    "print('AdaBoost Accuracy: {:.2f}%'.format(adaboost_accuracy * 100))"
   ]
  },
  {
   "cell_type": "markdown",
   "id": "56853ba2",
   "metadata": {},
   "source": [
    "## Cross validation"
   ]
  },
  {
   "cell_type": "code",
   "execution_count": 47,
   "id": "8e498682",
   "metadata": {},
   "outputs": [],
   "source": [
    "logistic_reg_cv_scores = [\"{:.1f}%\".format(score * 100) for score in cross_val_score(logistic_reg, X_train_scaled, y_train, cv=5)]\n",
    "random_forest_cv_scores = [\"{:.1f}%\".format(score * 100) for score in cross_val_score(random_forest, X_train_scaled, y_train, cv=5)]\n",
    "gradient_boosting_cv_scores = [\"{:.1f}%\".format(score * 100) for score in cross_val_score(gradient_boosting, X_train_scaled, y_train, cv=5)]\n",
    "svm_cv_scores = [\"{:.1f}%\".format(score * 100) for score in cross_val_score(svm, X_train_scaled, y_train, cv=5)]\n",
    "knn_cv_scores = [\"{:.1f}%\".format(score * 100) for score in cross_val_score(knn, X_train_scaled, y_train, cv=5)]\n",
    "decision_tree_cv_scores = [\"{:.1f}%\".format(score * 100) for score in cross_val_score(decision_tree, X_train_scaled, y_train, cv=5)]\n",
    "naive_bayes_cv_scores = [\"{:.1f}%\".format(score * 100) for score in cross_val_score(naive_bayes, X_train_scaled, y_train, cv=5)]\n",
    "mlp_cv_scores = [\"{:.1f}%\".format(score * 100) for score in cross_val_score(mlp, X_train_scaled, y_train, cv=5)]\n",
    "adaboost_cv_scores = [\"{:.1f}%\".format(score * 100) for score in cross_val_score(adaboost, X_train_scaled, y_train, cv=5)]"
   ]
  },
  {
   "cell_type": "markdown",
   "id": "af7227c6",
   "metadata": {},
   "source": [
    "## Printing results"
   ]
  },
  {
   "cell_type": "code",
   "execution_count": 48,
   "id": "aab14884",
   "metadata": {},
   "outputs": [
    {
     "name": "stdout",
     "output_type": "stream",
     "text": [
      "\n",
      "Cross-Validation Results:\n",
      "Logistic Regression CV Scores: ['87.4%', '86.4%', '86.4%', '87.4%', '86.8%']\n",
      "Random Forest CV Scores: ['88.4%', '86.5%', '87.0%', '88.1%', '87.2%']\n",
      "Gradient Boosting CV Scores: ['87.5%', '86.8%', '85.7%', '87.8%', '87.5%']\n",
      "SVM CV Scores: ['87.9%', '86.5%', '87.1%', '87.5%', '86.9%']\n",
      "KNN CV Scores: ['87.1%', '86.7%', '87.0%', '87.4%', '86.9%']\n",
      "Decision Tree CV Scores: ['79.2%', '78.4%', '77.0%', '77.3%', '81.2%']\n",
      "Naive Bayes CV Scores: ['85.7%', '85.4%', '84.2%', '84.4%', '83.8%']\n",
      "MLP CV Scores: ['87.7%', '87.0%', '87.1%', '87.5%', '87.4%']\n",
      "AdaBoost CV Scores: ['88.4%', '87.4%', '86.3%', '87.5%', '86.5%']\n"
     ]
    }
   ],
   "source": [
    "#Printing the result of cross vaildation\n",
    "print('\\nCross-Validation Results:')\n",
    "print('Logistic Regression CV Scores:', logistic_reg_cv_scores)\n",
    "print('Random Forest CV Scores:', random_forest_cv_scores)\n",
    "print('Gradient Boosting CV Scores:', gradient_boosting_cv_scores)\n",
    "print('SVM CV Scores:', svm_cv_scores)\n",
    "print('KNN CV Scores:', knn_cv_scores)\n",
    "print('Decision Tree CV Scores:', decision_tree_cv_scores)\n",
    "print('Naive Bayes CV Scores:', naive_bayes_cv_scores)\n",
    "print('MLP CV Scores:', mlp_cv_scores)\n",
    "print('AdaBoost CV Scores:', adaboost_cv_scores)"
   ]
  },
  {
   "cell_type": "markdown",
   "id": "546c022e",
   "metadata": {},
   "source": [
    "# Models Evaluation"
   ]
  },
  {
   "cell_type": "markdown",
   "id": "7bf40863",
   "metadata": {},
   "source": [
    "## Libraries"
   ]
  },
  {
   "cell_type": "code",
   "execution_count": 49,
   "id": "951f095f",
   "metadata": {},
   "outputs": [],
   "source": [
    "# libraries\n",
    "import matplotlib.pyplot as plt\n",
    "import seaborn as sns\n",
    "from sklearn.model_selection import train_test_split\n",
    "from sklearn.ensemble import RandomForestClassifier, GradientBoostingClassifier\n",
    "from sklearn.tree import DecisionTreeClassifier\n",
    "from sklearn.naive_bayes import GaussianNB\n",
    "from sklearn.neural_network import MLPClassifier\n",
    "from sklearn.metrics import classification_report, confusion_matrix\n"
   ]
  },
  {
   "cell_type": "markdown",
   "id": "cd020f18",
   "metadata": {},
   "source": [
    "## Selection of variables of interest"
   ]
  },
  {
   "cell_type": "code",
   "execution_count": 50,
   "id": "e56cbf90",
   "metadata": {},
   "outputs": [],
   "source": [
    "# Selection of variables\n",
    "X = df[['Activity', 'Rest Time', 'Rest Per Bout', 'Restlessness Ratio', 'Lactation No', 'Month of Sensor Attachment']]\n",
    "y = df['Calved']\n"
   ]
  },
  {
   "cell_type": "markdown",
   "id": "40e44e47",
   "metadata": {},
   "source": [
    "## Spliting data set"
   ]
  },
  {
   "cell_type": "code",
   "execution_count": 51,
   "id": "1c255f17",
   "metadata": {},
   "outputs": [],
   "source": [
    "# Splitting the dataset into training and testing dataset\n",
    "X_train, X_test, y_train, y_test = train_test_split(X, y, test_size=0.2, random_state=4455)"
   ]
  },
  {
   "cell_type": "markdown",
   "id": "dd6a3434",
   "metadata": {},
   "source": [
    "## Classifiers"
   ]
  },
  {
   "cell_type": "code",
   "execution_count": 52,
   "id": "4679fe41",
   "metadata": {},
   "outputs": [
    {
     "data": {
      "text/plain": [
       "MLPClassifier()"
      ]
     },
     "execution_count": 52,
     "metadata": {},
     "output_type": "execute_result"
    }
   ],
   "source": [
    "# Initializing the classifiers\n",
    "rf_classifier = RandomForestClassifier()\n",
    "dt_classifier = DecisionTreeClassifier()\n",
    "gb_classifier = GradientBoostingClassifier()\n",
    "nb_classifier = GaussianNB()\n",
    "nn_classifier = MLPClassifier()\n",
    "\n",
    "# Training the models\n",
    "rf_classifier.fit(X_train, y_train)\n",
    "dt_classifier.fit(X_train, y_train)\n",
    "gb_classifier.fit(X_train, y_train)\n",
    "nb_classifier.fit(X_train, y_train)\n",
    "nn_classifier.fit(X_train, y_train)"
   ]
  },
  {
   "cell_type": "markdown",
   "id": "30dc1b91",
   "metadata": {},
   "source": [
    "## Visulization"
   ]
  },
  {
   "cell_type": "code",
   "execution_count": 53,
   "id": "3e7aa8f2",
   "metadata": {},
   "outputs": [
    {
     "name": "stdout",
     "output_type": "stream",
     "text": [
      "Classifier: Random Forest\n",
      "              precision    recall  f1-score   support\n",
      "\n",
      "           0       0.91      0.99      0.95       785\n",
      "           1       0.59      0.40      0.48        55\n",
      "           2       0.50      0.04      0.07        51\n",
      "\n",
      "    accuracy                           0.90       891\n",
      "   macro avg       0.67      0.48      0.50       891\n",
      "weighted avg       0.87      0.90      0.87       891\n",
      "\n"
     ]
    },
    {
     "data": {
      "image/png": "[encoded data removed]",
      "text/plain": [
       "<Figure size 576x432 with 1 Axes>"
      ]
     },
     "metadata": {},
     "output_type": "display_data"
    },
    {
     "name": "stdout",
     "output_type": "stream",
     "text": [
      "Classifier: Decision Tree\n",
      "              precision    recall  f1-score   support\n",
      "\n",
      "           0       0.92      0.89      0.90       785\n",
      "           1       0.32      0.40      0.36        55\n",
      "           2       0.07      0.08      0.07        51\n",
      "\n",
      "    accuracy                           0.81       891\n",
      "   macro avg       0.44      0.46      0.44       891\n",
      "weighted avg       0.83      0.81      0.82       891\n",
      "\n"
     ]
    },
    {
     "data": {
      "image/png": "[encoded data removed]",
      "text/plain": [
       "<Figure size 576x432 with 1 Axes>"
      ]
     },
     "metadata": {},
     "output_type": "display_data"
    },
    {
     "name": "stdout",
     "output_type": "stream",
     "text": [
      "Classifier: Gradient Boosting\n",
      "              precision    recall  f1-score   support\n",
      "\n",
      "           0       0.91      0.98      0.94       785\n",
      "           1       0.57      0.36      0.44        55\n",
      "           2       0.14      0.02      0.03        51\n",
      "\n",
      "    accuracy                           0.89       891\n",
      "   macro avg       0.54      0.46      0.47       891\n",
      "weighted avg       0.84      0.89      0.86       891\n",
      "\n"
     ]
    },
    {
     "data": {
      "image/png": "[encoded data removed]",
      "text/plain": [
       "<Figure size 576x432 with 1 Axes>"
      ]
     },
     "metadata": {},
     "output_type": "display_data"
    },
    {
     "name": "stdout",
     "output_type": "stream",
     "text": [
      "Classifier: Naive Bayes\n",
      "              precision    recall  f1-score   support\n",
      "\n",
      "           0       0.92      0.95      0.93       785\n",
      "           1       0.48      0.45      0.47        55\n",
      "           2       0.07      0.04      0.05        51\n",
      "\n",
      "    accuracy                           0.87       891\n",
      "   macro avg       0.49      0.48      0.48       891\n",
      "weighted avg       0.84      0.87      0.85       891\n",
      "\n"
     ]
    },
    {
     "data": {
      "image/png": "[encoded data removed]",
      "text/plain": [
       "<Figure size 576x432 with 1 Axes>"
      ]
     },
     "metadata": {},
     "output_type": "display_data"
    },
    {
     "name": "stdout",
     "output_type": "stream",
     "text": [
      "Classifier: Neural Network\n",
      "              precision    recall  f1-score   support\n",
      "\n",
      "           0       0.90      0.98      0.94       785\n",
      "           1       0.51      0.33      0.40        55\n",
      "           2       0.00      0.00      0.00        51\n",
      "\n",
      "    accuracy                           0.89       891\n",
      "   macro avg       0.47      0.44      0.45       891\n",
      "weighted avg       0.83      0.89      0.85       891\n",
      "\n"
     ]
    },
    {
     "data": {
      "image/png": "[encoded data removed]",
      "text/plain": [
       "<Figure size 576x432 with 1 Axes>"
      ]
     },
     "metadata": {},
     "output_type": "display_data"
    }
   ],
   "source": [
    "# Make predictions for each classifier\n",
    "classifiers = [\n",
    "    (\"Random Forest\", rf_classifier),\n",
    "    (\"Decision Tree\", dt_classifier),\n",
    "    (\"Gradient Boosting\", gb_classifier),\n",
    "    (\"Naive Bayes\", nb_classifier),\n",
    "    (\"Neural Network\", nn_classifier)\n",
    "]\n",
    "\n",
    "for name, classifier in classifiers:\n",
    "    # Make predictions\n",
    "    y_pred = classifier.predict(X_test)\n",
    "    \n",
    "    # Calculate evaluation metrics\n",
    "    print(f\"Classifier: {name}\")\n",
    "    print(classification_report(y_test, y_pred))\n",
    "    \n",
    "    # Plot confusion matrix\n",
    "    cm = confusion_matrix(y_test, y_pred)\n",
    "    plt.figure(figsize=(8, 6))\n",
    "    sns.heatmap(cm, annot=True, fmt='d', cmap='Blues', cbar=False)\n",
    "    plt.xlabel('Predicted Labels')\n",
    "    plt.ylabel('True Labels')\n",
    "    plt.title(f'Confusion Matrix - {name}')\n",
    "    plt.show()"
   ]
  },
  {
   "cell_type": "code",
   "execution_count": null,
   "id": "efdaff38",
   "metadata": {},
   "outputs": [],
   "source": []
  }
 ],
 "metadata": {
  "kernelspec": {
   "display_name": "Python 3",
   "language": "python",
   "name": "python3"
  },
  "language_info": {
   "codemirror_mode": {
    "name": "ipython",
    "version": 3
   },
   "file_extension": ".py",
   "mimetype": "text/x-python",
   "name": "python",
   "nbconvert_exporter": "python",
   "pygments_lexer": "ipython3",
   "version": "3.8.8"
  }
 },
 "nbformat": 4,
 "nbformat_minor": 5
}
