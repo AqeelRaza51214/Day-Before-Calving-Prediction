{
 "cells": [
  {
   "cell_type": "markdown",
   "id": "ae988e5a",
   "metadata": {},
   "source": [
    "# Machine Learning Version 03"
   ]
  },
  {
   "cell_type": "markdown",
   "id": "01a12bed",
   "metadata": {},
   "source": [
    "## Prediction of Calving Day and Day before calving"
   ]
  },
  {
   "cell_type": "markdown",
   "id": "db35ee1a",
   "metadata": {},
   "source": [
    "### Libraries"
   ]
  },
  {
   "cell_type": "code",
   "execution_count": 1,
   "id": "8740f1a8",
   "metadata": {},
   "outputs": [],
   "source": [
    "import pandas as pd \n",
    "import numpy as np \n",
    "import seaborn as sns \n",
    "import matplotlib.pyplot as plt \n",
    "import itertools \n",
    "import warnings \n",
    "warnings.filterwarnings(action='ignore')\n",
    "from datetime import datetime\n",
    "import os \n",
    "import re"
   ]
  },
  {
   "cell_type": "markdown",
   "id": "747d0b1f",
   "metadata": {},
   "source": [
    "## Loading data set"
   ]
  },
  {
   "cell_type": "code",
   "execution_count": 2,
   "id": "4e8b9bd4",
   "metadata": {},
   "outputs": [],
   "source": [
    "# Loading the data set\n",
    "df = pd.read_csv('calving_data_version_03.csv')"
   ]
  },
  {
   "cell_type": "markdown",
   "id": "acabaf60",
   "metadata": {},
   "source": [
    "## Basic data manipulation"
   ]
  },
  {
   "cell_type": "code",
   "execution_count": 3,
   "id": "c2a03ef8",
   "metadata": {},
   "outputs": [
    {
     "data": {
      "text/html": [
       "<div>\n",
       "<style scoped>\n",
       "    .dataframe tbody tr th:only-of-type {\n",
       "        vertical-align: middle;\n",
       "    }\n",
       "\n",
       "    .dataframe tbody tr th {\n",
       "        vertical-align: top;\n",
       "    }\n",
       "\n",
       "    .dataframe thead th {\n",
       "        text-align: right;\n",
       "    }\n",
       "</style>\n",
       "<table border=\"1\" class=\"dataframe\">\n",
       "  <thead>\n",
       "    <tr style=\"text-align: right;\">\n",
       "      <th></th>\n",
       "      <th>Date</th>\n",
       "      <th>Calving Date</th>\n",
       "      <th>Calving Time</th>\n",
       "      <th>Insemination Date</th>\n",
       "      <th>Days Pregnancy</th>\n",
       "      <th>Days Pregnancy 1</th>\n",
       "      <th>Expected Calving Days</th>\n",
       "      <th>Expected Calving Days 1</th>\n",
       "      <th>Heat Indicator</th>\n",
       "      <th>Cow ID</th>\n",
       "      <th>...</th>\n",
       "      <th>Activity</th>\n",
       "      <th>Rest Time</th>\n",
       "      <th>Rest Per Bout</th>\n",
       "      <th>Restlessness Ratio</th>\n",
       "      <th>Manner Of Calving</th>\n",
       "      <th>Offspring</th>\n",
       "      <th>Parity</th>\n",
       "      <th>Days Before Calving</th>\n",
       "      <th>Hours Before Calving</th>\n",
       "      <th>Calved</th>\n",
       "    </tr>\n",
       "  </thead>\n",
       "  <tbody>\n",
       "    <tr>\n",
       "      <th>0</th>\n",
       "      <td>10-Dec-21</td>\n",
       "      <td>24-Dec-21</td>\n",
       "      <td>8:04</td>\n",
       "      <td>16-Mar-21</td>\n",
       "      <td>269</td>\n",
       "      <td>269.0</td>\n",
       "      <td>11</td>\n",
       "      <td>11</td>\n",
       "      <td>8</td>\n",
       "      <td>3</td>\n",
       "      <td>...</td>\n",
       "      <td>141</td>\n",
       "      <td>735</td>\n",
       "      <td>29</td>\n",
       "      <td>1.7</td>\n",
       "      <td>Normal</td>\n",
       "      <td>1</td>\n",
       "      <td>multiparous</td>\n",
       "      <td>-14</td>\n",
       "      <td>-360</td>\n",
       "      <td>0</td>\n",
       "    </tr>\n",
       "    <tr>\n",
       "      <th>1</th>\n",
       "      <td>11-Dec-21</td>\n",
       "      <td>24-Dec-21</td>\n",
       "      <td>8:04</td>\n",
       "      <td>16-Mar-21</td>\n",
       "      <td>270</td>\n",
       "      <td>270.0</td>\n",
       "      <td>10</td>\n",
       "      <td>10</td>\n",
       "      <td>-2</td>\n",
       "      <td>3</td>\n",
       "      <td>...</td>\n",
       "      <td>131</td>\n",
       "      <td>827</td>\n",
       "      <td>32</td>\n",
       "      <td>1.5</td>\n",
       "      <td>Normal</td>\n",
       "      <td>1</td>\n",
       "      <td>multiparous</td>\n",
       "      <td>-13</td>\n",
       "      <td>-336</td>\n",
       "      <td>0</td>\n",
       "    </tr>\n",
       "    <tr>\n",
       "      <th>2</th>\n",
       "      <td>12-Dec-21</td>\n",
       "      <td>24-Dec-21</td>\n",
       "      <td>8:04</td>\n",
       "      <td>16-Mar-21</td>\n",
       "      <td>271</td>\n",
       "      <td>271.0</td>\n",
       "      <td>9</td>\n",
       "      <td>9</td>\n",
       "      <td>8</td>\n",
       "      <td>3</td>\n",
       "      <td>...</td>\n",
       "      <td>144</td>\n",
       "      <td>660</td>\n",
       "      <td>31</td>\n",
       "      <td>2.1</td>\n",
       "      <td>Normal</td>\n",
       "      <td>1</td>\n",
       "      <td>multiparous</td>\n",
       "      <td>-12</td>\n",
       "      <td>-312</td>\n",
       "      <td>0</td>\n",
       "    </tr>\n",
       "    <tr>\n",
       "      <th>3</th>\n",
       "      <td>13-Dec-21</td>\n",
       "      <td>24-Dec-21</td>\n",
       "      <td>8:04</td>\n",
       "      <td>16-Mar-21</td>\n",
       "      <td>272</td>\n",
       "      <td>272.0</td>\n",
       "      <td>8</td>\n",
       "      <td>8</td>\n",
       "      <td>-2</td>\n",
       "      <td>3</td>\n",
       "      <td>...</td>\n",
       "      <td>134</td>\n",
       "      <td>724</td>\n",
       "      <td>31</td>\n",
       "      <td>1.9</td>\n",
       "      <td>Normal</td>\n",
       "      <td>1</td>\n",
       "      <td>multiparous</td>\n",
       "      <td>-11</td>\n",
       "      <td>-264</td>\n",
       "      <td>0</td>\n",
       "    </tr>\n",
       "    <tr>\n",
       "      <th>4</th>\n",
       "      <td>14-Dec-21</td>\n",
       "      <td>24-Dec-21</td>\n",
       "      <td>8:04</td>\n",
       "      <td>16-Mar-21</td>\n",
       "      <td>273</td>\n",
       "      <td>273.0</td>\n",
       "      <td>7</td>\n",
       "      <td>7</td>\n",
       "      <td>-6</td>\n",
       "      <td>3</td>\n",
       "      <td>...</td>\n",
       "      <td>129</td>\n",
       "      <td>742</td>\n",
       "      <td>31</td>\n",
       "      <td>1.9</td>\n",
       "      <td>Normal</td>\n",
       "      <td>1</td>\n",
       "      <td>multiparous</td>\n",
       "      <td>-10</td>\n",
       "      <td>-240</td>\n",
       "      <td>0</td>\n",
       "    </tr>\n",
       "  </tbody>\n",
       "</table>\n",
       "<p>5 rows × 25 columns</p>\n",
       "</div>"
      ],
      "text/plain": [
       "        Date Calving Date Calving Time Insemination Date  Days Pregnancy  \\\n",
       "0  10-Dec-21    24-Dec-21         8:04         16-Mar-21             269   \n",
       "1  11-Dec-21    24-Dec-21         8:04         16-Mar-21             270   \n",
       "2  12-Dec-21    24-Dec-21         8:04         16-Mar-21             271   \n",
       "3  13-Dec-21    24-Dec-21         8:04         16-Mar-21             272   \n",
       "4  14-Dec-21    24-Dec-21         8:04         16-Mar-21             273   \n",
       "\n",
       "   Days Pregnancy 1  Expected Calving Days  Expected Calving Days 1  \\\n",
       "0             269.0                     11                       11   \n",
       "1             270.0                     10                       10   \n",
       "2             271.0                      9                        9   \n",
       "3             272.0                      8                        8   \n",
       "4             273.0                      7                        7   \n",
       "\n",
       "   Heat Indicator  Cow ID  ...  Activity Rest Time Rest Per Bout  \\\n",
       "0               8       3  ...       141       735            29   \n",
       "1              -2       3  ...       131       827            32   \n",
       "2               8       3  ...       144       660            31   \n",
       "3              -2       3  ...       134       724            31   \n",
       "4              -6       3  ...       129       742            31   \n",
       "\n",
       "   Restlessness Ratio  Manner Of Calving  Offspring       Parity  \\\n",
       "0                 1.7             Normal          1  multiparous   \n",
       "1                 1.5             Normal          1  multiparous   \n",
       "2                 2.1             Normal          1  multiparous   \n",
       "3                 1.9             Normal          1  multiparous   \n",
       "4                 1.9             Normal          1  multiparous   \n",
       "\n",
       "  Days Before Calving Hours Before Calving Calved  \n",
       "0                 -14                 -360      0  \n",
       "1                 -13                 -336      0  \n",
       "2                 -12                 -312      0  \n",
       "3                 -11                 -264      0  \n",
       "4                 -10                 -240      0  \n",
       "\n",
       "[5 rows x 25 columns]"
      ]
     },
     "execution_count": 3,
     "metadata": {},
     "output_type": "execute_result"
    }
   ],
   "source": [
    "# First five rows of data\n",
    "df.head()"
   ]
  },
  {
   "cell_type": "code",
   "execution_count": 4,
   "id": "0dc597b5",
   "metadata": {},
   "outputs": [
    {
     "data": {
      "text/plain": [
       "(4455, 25)"
      ]
     },
     "execution_count": 4,
     "metadata": {},
     "output_type": "execute_result"
    }
   ],
   "source": [
    "# Shape of the data set\n",
    "df.shape"
   ]
  },
  {
   "cell_type": "markdown",
   "id": "d1d71b81",
   "metadata": {},
   "source": [
    "## Cleaning section"
   ]
  },
  {
   "cell_type": "code",
   "execution_count": 5,
   "id": "8efe12eb",
   "metadata": {},
   "outputs": [],
   "source": [
    "# Replace non-numeric values\n",
    "df = df.replace(\"--\", np.nan, regex=True)\n",
    "df = df.replace(r'^\\s*$', np.nan, regex=True)"
   ]
  },
  {
   "cell_type": "code",
   "execution_count": 6,
   "id": "f23121dc",
   "metadata": {},
   "outputs": [
    {
     "data": {
      "text/plain": [
       "Days Pregnancy 1              1613\n",
       "Restlessness Ratio               2\n",
       "Rest Per Bout                    2\n",
       "Rest Time                        2\n",
       "Date                             0\n",
       "Lact No                          0\n",
       "Hours Before Calving             0\n",
       "Days Before Calving              0\n",
       "Parity                           0\n",
       "Offspring                        0\n",
       "Manner Of Calving                0\n",
       "Activity                         0\n",
       "Lactation No                     0\n",
       "Breed                            0\n",
       "Calving Date                     0\n",
       "Calving Season                   0\n",
       "Month of Sensor Attachment       0\n",
       "Cow ID                           0\n",
       "Heat Indicator                   0\n",
       "Expected Calving Days 1          0\n",
       "Expected Calving Days            0\n",
       "Days Pregnancy                   0\n",
       "Insemination Date                0\n",
       "Calving Time                     0\n",
       "Calved                           0\n",
       "dtype: int64"
      ]
     },
     "execution_count": 6,
     "metadata": {},
     "output_type": "execute_result"
    }
   ],
   "source": [
    "# Missing values inside the dataset\n",
    "df.isnull().sum().sort_values(ascending=False) "
   ]
  },
  {
   "cell_type": "markdown",
   "id": "dc9d9ee1",
   "metadata": {},
   "source": [
    "## Visulization of NAN"
   ]
  },
  {
   "cell_type": "code",
   "execution_count": 7,
   "id": "3c5f1a91",
   "metadata": {},
   "outputs": [
    {
     "data": {
      "image/png": "[encoded data removed]",
      "text/plain": [
       "<Figure size 576x360 with 1 Axes>"
      ]
     },
     "metadata": {},
     "output_type": "display_data"
    }
   ],
   "source": [
    "# Setting the background style for chart\n",
    "sns.set_style('white')\n",
    "# Setting the figure size\n",
    "sns.set(rc={'figure.figsize':(8,5)})\n",
    "# Generating the heatmap to check the NAN values inside the dataset\n",
    "sns.heatmap(df.isnull(), cbar=False, yticklabels=False, cmap='viridis')\n",
    "# Setting the x ticks for chart\n",
    "plt.xticks(fontsize=10, rotation='vertical')\n",
    "# Show the chart\n",
    "plt.show()"
   ]
  },
  {
   "cell_type": "code",
   "execution_count": 8,
   "id": "fc90e3e0",
   "metadata": {},
   "outputs": [
    {
     "data": {
      "text/plain": [
       "Date                             0\n",
       "Days Before Calving              0\n",
       "Parity                           0\n",
       "Offspring                        0\n",
       "Manner Of Calving                0\n",
       "Activity                         0\n",
       "Lactation No                     0\n",
       "Lact No                          0\n",
       "Hours Before Calving             0\n",
       "Calving Season                   0\n",
       "Breed                            0\n",
       "Cow ID                           0\n",
       "Heat Indicator                   0\n",
       "Expected Calving Days 1          0\n",
       "Expected Calving Days            0\n",
       "Days Pregnancy                   0\n",
       "Insemination Date                0\n",
       "Calving Time                     0\n",
       "Calving Date                     0\n",
       "Month of Sensor Attachment       0\n",
       "Calved                           0\n",
       "Rest Time                        2\n",
       "Rest Per Bout                    2\n",
       "Restlessness Ratio               2\n",
       "Days Pregnancy 1              1613\n",
       "dtype: int64"
      ]
     },
     "execution_count": 8,
     "metadata": {},
     "output_type": "execute_result"
    }
   ],
   "source": [
    "# verifying missing values inside the dataset\n",
    "df.isnull().sum().sort_values(ascending=True)"
   ]
  },
  {
   "cell_type": "markdown",
   "id": "1a227f5e",
   "metadata": {},
   "source": [
    "# Imputation of missing values"
   ]
  },
  {
   "cell_type": "markdown",
   "id": "c7008f70",
   "metadata": {},
   "source": [
    "## Libraries"
   ]
  },
  {
   "cell_type": "code",
   "execution_count": 9,
   "id": "d0203089",
   "metadata": {},
   "outputs": [],
   "source": [
    "# Importing libraries\n",
    "from sklearn.experimental import enable_iterative_imputer\n",
    "from sklearn.impute import IterativeImputer \n",
    "from sklearn.impute import SimpleImputer \n",
    "from sklearn.ensemble import RandomForestRegressor "
   ]
  },
  {
   "cell_type": "code",
   "execution_count": 10,
   "id": "e41601d4",
   "metadata": {},
   "outputs": [],
   "source": [
    "# Variables containing NAN values\n",
    "columns_with_missing_values = ['Rest Time', 'Rest Per Bout', 'Restlessness Ratio']\n",
    "\n",
    "# Creating multiple imputation techniques to impute columns with missing values\n",
    "imputer_mice = IterativeImputer(estimator=RandomForestRegressor(), random_state=0)\n",
    "df[columns_with_missing_values] = imputer_mice.fit_transform(df[columns_with_missing_values])"
   ]
  },
  {
   "cell_type": "code",
   "execution_count": 11,
   "id": "eaaff890",
   "metadata": {},
   "outputs": [
    {
     "data": {
      "text/plain": [
       "Date                             0\n",
       "Days Before Calving              0\n",
       "Parity                           0\n",
       "Offspring                        0\n",
       "Manner Of Calving                0\n",
       "Restlessness Ratio               0\n",
       "Rest Per Bout                    0\n",
       "Rest Time                        0\n",
       "Activity                         0\n",
       "Lactation No                     0\n",
       "Lact No                          0\n",
       "Hours Before Calving             0\n",
       "Breed                            0\n",
       "Month of Sensor Attachment       0\n",
       "Cow ID                           0\n",
       "Heat Indicator                   0\n",
       "Expected Calving Days 1          0\n",
       "Expected Calving Days            0\n",
       "Days Pregnancy                   0\n",
       "Insemination Date                0\n",
       "Calving Time                     0\n",
       "Calving Date                     0\n",
       "Calving Season                   0\n",
       "Calved                           0\n",
       "Days Pregnancy 1              1613\n",
       "dtype: int64"
      ]
     },
     "execution_count": 11,
     "metadata": {},
     "output_type": "execute_result"
    }
   ],
   "source": [
    "# Verfying the missing values after imputating of missing values through iterative imputer\n",
    "df.isnull().sum().sort_values() "
   ]
  },
  {
   "cell_type": "markdown",
   "id": "9652c08b",
   "metadata": {},
   "source": [
    "## Conversion of data types"
   ]
  },
  {
   "cell_type": "code",
   "execution_count": 12,
   "id": "c4567df6",
   "metadata": {},
   "outputs": [],
   "source": [
    "# Conversion of data types into proper data type\n",
    "df['Date'] = pd.to_datetime(df['Date'])\n",
    "df['date'] = df['Date'].astype('datetime64[ns]')\n",
    "df['Calving Date'] = pd.to_datetime(df['Calving Date'])\n",
    "df['Calving Date'] = df['Calving Date'].astype('datetime64[ns]')\n",
    "df['Insemination Date'] = pd.to_datetime(df['Insemination Date'])\n",
    "df['Insemination Date'] = pd.to_datetime(df['Insemination Date'])\n",
    "df['Days Pregnancy'] = df['Days Pregnancy'].astype('int64')\n",
    "df['Heat Indicator'] = df['Heat Indicator'].astype('int64')\n",
    "df['Activity'] = df['Activity'].astype('int64')\n",
    "df['Rest Time'] = df['Rest Time'].astype('int64')\n",
    "df['Rest Per Bout'] = df['Rest Per Bout'].astype('int64')\n",
    "df['Restlessness Ratio'] = df['Restlessness Ratio'].astype('float64')\n",
    "df['Offspring'] = df['Offspring'].astype('int64')\n",
    "df['Calved'] = df['Calved'].astype('int64')\n",
    "df['Hours Before Calving'] = df['Hours Before Calving'].astype('int64')\n",
    "df['Days Before Calving'] = df['Days Before Calving'].astype('int64')\n",
    "df['Cow ID'] = df['Cow ID'].astype('int64')\n",
    "df['Expected Calving Days'] = df['Expected Calving Days'].astype('int64')\n",
    "df['Expected Calving Days 1'] = df['Expected Calving Days 1'].astype('int64')\n",
    "df['Month of Sensor Attachment'] = df['Month of Sensor Attachment'].astype('int64')\n",
    "df['Lact No'] = df['Lact No'].astype('object')\n",
    "df['Lactation No'] = df['Lactation No'].astype('object')\n",
    "df['Days Pregnancy 1'] = df['Days Pregnancy 1'].astype('object')"
   ]
  },
  {
   "cell_type": "code",
   "execution_count": 13,
   "id": "558b28b0",
   "metadata": {},
   "outputs": [
    {
     "data": {
      "text/plain": [
       "Date                          datetime64[ns]\n",
       "Calving Date                  datetime64[ns]\n",
       "Calving Time                          object\n",
       "Insemination Date             datetime64[ns]\n",
       "Days Pregnancy                         int64\n",
       "Days Pregnancy 1                      object\n",
       "Expected Calving Days                  int64\n",
       "Expected Calving Days 1                int64\n",
       "Heat Indicator                         int64\n",
       "Cow ID                                 int64\n",
       "Month of Sensor Attachment             int64\n",
       "Calving Season                        object\n",
       "Breed                                 object\n",
       "Lact No                               object\n",
       "Lactation No                          object\n",
       "Activity                               int64\n",
       "Rest Time                              int64\n",
       "Rest Per Bout                          int64\n",
       "Restlessness Ratio                   float64\n",
       "Manner Of Calving                     object\n",
       "Offspring                              int64\n",
       "Parity                                object\n",
       "Days Before Calving                    int64\n",
       "Hours Before Calving                   int64\n",
       "Calved                                 int64\n",
       "date                          datetime64[ns]\n",
       "dtype: object"
      ]
     },
     "execution_count": 13,
     "metadata": {},
     "output_type": "execute_result"
    }
   ],
   "source": [
    "# Checking datatypes of dataset after proper conversion\n",
    "df.dtypes "
   ]
  },
  {
   "cell_type": "markdown",
   "id": "b899c699",
   "metadata": {},
   "source": [
    "## Numerical and categorical features"
   ]
  },
  {
   "cell_type": "code",
   "execution_count": 14,
   "id": "39298eeb",
   "metadata": {},
   "outputs": [
    {
     "data": {
      "text/plain": [
       "['Date',\n",
       " 'Calving Date',\n",
       " 'Insemination Date',\n",
       " 'Days Pregnancy',\n",
       " 'Expected Calving Days',\n",
       " 'Expected Calving Days 1',\n",
       " 'Heat Indicator',\n",
       " 'Cow ID',\n",
       " 'Month of Sensor Attachment',\n",
       " 'Activity',\n",
       " 'Rest Time',\n",
       " 'Rest Per Bout',\n",
       " 'Restlessness Ratio',\n",
       " 'Offspring',\n",
       " 'Days Before Calving',\n",
       " 'Hours Before Calving',\n",
       " 'Calved',\n",
       " 'date']"
      ]
     },
     "execution_count": 14,
     "metadata": {},
     "output_type": "execute_result"
    }
   ],
   "source": [
    "# Numerical features of dataset\n",
    "numercial_features = [col for col in df.columns if df[col].dtype!='O']\n",
    "numercial_features"
   ]
  },
  {
   "cell_type": "code",
   "execution_count": 15,
   "id": "b8b5b042",
   "metadata": {},
   "outputs": [
    {
     "data": {
      "text/plain": [
       "['Calving Time',\n",
       " 'Days Pregnancy 1',\n",
       " 'Calving Season',\n",
       " 'Breed',\n",
       " 'Lact No',\n",
       " 'Lactation No',\n",
       " 'Manner Of Calving',\n",
       " 'Parity']"
      ]
     },
     "execution_count": 15,
     "metadata": {},
     "output_type": "execute_result"
    }
   ],
   "source": [
    "# Categorical features of dataset\n",
    "categorical_features=[col for col in df.columns if df[col].dtypes=='O']\n",
    "categorical_features"
   ]
  },
  {
   "cell_type": "markdown",
   "id": "c1a9c05f",
   "metadata": {},
   "source": [
    "# Machine learning"
   ]
  },
  {
   "cell_type": "markdown",
   "id": "ea6bc03b",
   "metadata": {},
   "source": [
    "## Libraries"
   ]
  },
  {
   "cell_type": "code",
   "execution_count": 16,
   "id": "aed1001e",
   "metadata": {},
   "outputs": [],
   "source": [
    "# Importing libraries\n",
    "from sklearn.model_selection import train_test_split\n",
    "from sklearn.preprocessing import StandardScaler\n",
    "from sklearn.ensemble import RandomForestClassifier, GradientBoostingClassifier, AdaBoostClassifier\n",
    "from sklearn.svm import SVC\n",
    "from sklearn.neighbors import KNeighborsClassifier\n",
    "from sklearn.tree import DecisionTreeClassifier\n",
    "from sklearn.naive_bayes import GaussianNB\n",
    "from sklearn.neural_network import MLPClassifier\n",
    "from sklearn.linear_model import LogisticRegression\n",
    "from sklearn.metrics import confusion_matrix, accuracy_score, f1_score, fbeta_score\n",
    "from sklearn.preprocessing import LabelEncoder"
   ]
  },
  {
   "cell_type": "markdown",
   "id": "6eaec371",
   "metadata": {},
   "source": [
    "## Encoding categorical features of data set"
   ]
  },
  {
   "cell_type": "code",
   "execution_count": 17,
   "id": "39c70280",
   "metadata": {},
   "outputs": [],
   "source": [
    "# Encoding the categorical variables \n",
    "label_encoder = LabelEncoder()\n",
    "df['Calving Time'] = label_encoder.fit_transform(df['Calving Time'])\n",
    "df['Days Pregnancy 1'] = label_encoder.fit_transform(df['Days Pregnancy 1'])\n",
    "df['Calving Season'] = label_encoder.fit_transform(df['Calving Season'])\n",
    "df['Breed'] = label_encoder.fit_transform(df['Breed'])\n",
    "df['Lact No'] = label_encoder.fit_transform(df['Lact No'])\n",
    "df['Lactation No'] = label_encoder.fit_transform(df['Lactation No'])\n",
    "df['Manner Of Calving'] = label_encoder.fit_transform(df['Manner Of Calving'])\n",
    "df['Parity'] = label_encoder.fit_transform(df['Parity'])"
   ]
  },
  {
   "cell_type": "markdown",
   "id": "6298fd08",
   "metadata": {},
   "source": [
    "## Conversion of date variables"
   ]
  },
  {
   "cell_type": "code",
   "execution_count": 18,
   "id": "a145df24",
   "metadata": {},
   "outputs": [],
   "source": [
    "# Converting datetime columns to numerical datatype \n",
    "df['Date'] = pd.to_numeric(df['Date'])\n",
    "df['Calving Time'] = pd.to_numeric(df['Calving Time'])\n",
    "df['Calving Date'] = pd.to_numeric(df['Calving Date'])\n",
    "df['Insemination Date'] = pd.to_numeric(df['Insemination Date'])"
   ]
  },
  {
   "cell_type": "markdown",
   "id": "b9412966",
   "metadata": {},
   "source": [
    "## Getting features"
   ]
  },
  {
   "cell_type": "code",
   "execution_count": 173,
   "id": "bf9ea0db",
   "metadata": {},
   "outputs": [],
   "source": [
    "# Independent variables of dataset\n",
    "X = df[['Activity', 'Rest Time', 'Rest Per Bout','Restlessness Ratio','Lactation No', 'Month of Sensor Attachment']]\n",
    "#Dependent variable of dataset\n",
    "y = df['Calved']"
   ]
  },
  {
   "cell_type": "markdown",
   "id": "a71da567",
   "metadata": {},
   "source": [
    "## Data spliting"
   ]
  },
  {
   "cell_type": "code",
   "execution_count": 174,
   "id": "27f09db4",
   "metadata": {},
   "outputs": [],
   "source": [
    "# Splitting the dataset into training and testing dataset\n",
    "X_train, X_test, y_train, y_test = train_test_split(X, y, test_size=0.2, random_state=4455)"
   ]
  },
  {
   "cell_type": "markdown",
   "id": "d141ce8a",
   "metadata": {},
   "source": [
    "## Feature selection"
   ]
  },
  {
   "cell_type": "code",
   "execution_count": 175,
   "id": "d2bc1714",
   "metadata": {},
   "outputs": [],
   "source": [
    "# Feature Scaling\n",
    "scaler = StandardScaler()\n",
    "X_train_scaled = scaler.fit_transform(X_train)\n",
    "X_test_scaled = scaler.transform(X_test)"
   ]
  },
  {
   "cell_type": "markdown",
   "id": "067ccb4c",
   "metadata": {},
   "source": [
    "## Random forest"
   ]
  },
  {
   "cell_type": "code",
   "execution_count": 176,
   "id": "c903d45e",
   "metadata": {},
   "outputs": [],
   "source": [
    "# Random Forest\n",
    "random_forest = RandomForestClassifier()\n",
    "random_forest.fit(X_train_scaled, y_train)\n",
    "random_forest_predictions = random_forest.predict(X_test_scaled)\n",
    "random_forest_conf_matrix = confusion_matrix(y_test, random_forest_predictions)\n",
    "\n",
    "random_forest_sensitivity = random_forest_conf_matrix[1, 1] / (random_forest_conf_matrix[1, 1] + random_forest_conf_matrix[1, 0]) * 100\n",
    "random_forest_specificity = random_forest_conf_matrix[0, 0] / (random_forest_conf_matrix[0, 0] + random_forest_conf_matrix[0, 1]) * 100\n",
    "random_forest_ppv = random_forest_conf_matrix[1, 1] / (random_forest_conf_matrix[1, 1] + random_forest_conf_matrix[0, 1]) * 100\n",
    "random_forest_npv = random_forest_conf_matrix[0, 0] / (random_forest_conf_matrix[0, 0] + random_forest_conf_matrix[1, 0]) * 100\n",
    "random_forest_accuracy = accuracy_score(y_test, random_forest_predictions) * 100\n",
    "random_forest_f1 = f1_score(y_test, random_forest_predictions) * 100\n",
    "# Calculating F2 score for Random Forest\n",
    "beta = 2\n",
    "random_forest_f2 = fbeta_score(y_test, random_forest_predictions, beta=beta) * 100"
   ]
  },
  {
   "cell_type": "markdown",
   "id": "1ca83002",
   "metadata": {},
   "source": [
    "## Printing Results"
   ]
  },
  {
   "cell_type": "code",
   "execution_count": 177,
   "id": "5c942ad3",
   "metadata": {},
   "outputs": [
    {
     "name": "stdout",
     "output_type": "stream",
     "text": [
      "Random Forest:\n",
      "Confusion Matrix:\n",
      "[[771  14]\n",
      " [ 72  34]]\n",
      "Sensitivity: 32.08%\n",
      "Specificity: 98.22%\n",
      "Positive Predictive Value: 70.83%\n",
      "Negative Predictive Value: 91.46%\n",
      "Accuracy Score: 90.35%\n",
      "F1 Score: 44.16%\n",
      "F2 Score: 36.02%\n",
      "\n"
     ]
    }
   ],
   "source": [
    "print('Random Forest:')\n",
    "print('Confusion Matrix:')\n",
    "print(random_forest_conf_matrix)\n",
    "print('Sensitivity: {:.2f}%'.format(random_forest_sensitivity))\n",
    "print('Specificity: {:.2f}%'.format(random_forest_specificity))\n",
    "print('Positive Predictive Value: {:.2f}%'.format(random_forest_ppv))\n",
    "print('Negative Predictive Value: {:.2f}%'.format(random_forest_npv))\n",
    "print('Accuracy Score: {:.2f}%'.format(random_forest_accuracy))\n",
    "print('F1 Score: {:.2f}%'.format(random_forest_f1))\n",
    "print('F2 Score: {:.2f}%'.format(random_forest_f2))\n",
    "print()"
   ]
  },
  {
   "cell_type": "markdown",
   "id": "c3192242",
   "metadata": {},
   "source": [
    "## Decision Tree"
   ]
  },
  {
   "cell_type": "code",
   "execution_count": 133,
   "id": "08c05447",
   "metadata": {},
   "outputs": [],
   "source": [
    "# Decision Tree\n",
    "decision_tree = DecisionTreeClassifier()\n",
    "decision_tree.fit(X_train_scaled, y_train)\n",
    "decision_tree_predictions = decision_tree.predict(X_test_scaled)\n",
    "decision_tree_conf_matrix = confusion_matrix(y_test, decision_tree_predictions)\n",
    "\n",
    "decision_tree_sensitivity = decision_tree_conf_matrix[1, 1] / (decision_tree_conf_matrix[1, 1] + decision_tree_conf_matrix[1, 0]) * 100\n",
    "decision_tree_specificity = decision_tree_conf_matrix[0, 0] / (decision_tree_conf_matrix[0, 0] + decision_tree_conf_matrix[0, 1]) * 100\n",
    "decision_tree_ppv = decision_tree_conf_matrix[1, 1] / (decision_tree_conf_matrix[1, 1] + decision_tree_conf_matrix[0, 1]) * 100\n",
    "decision_tree_npv = decision_tree_conf_matrix[0, 0] / (decision_tree_conf_matrix[0, 0] + decision_tree_conf_matrix[1, 0]) * 100\n",
    "decision_tree_accuracy = accuracy_score(y_test, decision_tree_predictions) * 100\n",
    "decision_tree_f1 = f1_score(y_test, decision_tree_predictions) * 100\n",
    "#Calculating F2 score for Decision Tree (DT)\n",
    "beta = 2\n",
    "decision_tree_f2 = fbeta_score(y_test, decision_tree_predictions, beta=beta) * 100"
   ]
  },
  {
   "cell_type": "markdown",
   "id": "ee5586ec",
   "metadata": {},
   "source": [
    "## Printing results"
   ]
  },
  {
   "cell_type": "code",
   "execution_count": 134,
   "id": "7c866cb9",
   "metadata": {},
   "outputs": [
    {
     "name": "stdout",
     "output_type": "stream",
     "text": [
      "Decision Tree (DT):\n",
      "Confusion Matrix:\n",
      "[[691  94]\n",
      " [ 65  41]]\n",
      "Sensitivity: 38.68%\n",
      "Specificity: 88.03%\n",
      "Positive Predictive Value: 30.37%\n",
      "Negative Predictive Value: 91.40%\n",
      "Accuracy Score: 82.15%\n",
      "F1 Score: 34.02%\n",
      "F2 Score: 36.67%\n",
      "\n"
     ]
    }
   ],
   "source": [
    "print('Decision Tree (DT):')\n",
    "print('Confusion Matrix:')\n",
    "print(decision_tree_conf_matrix)\n",
    "print('Sensitivity: {:.2f}%'.format(decision_tree_sensitivity))\n",
    "print('Specificity: {:.2f}%'.format(decision_tree_specificity))\n",
    "print('Positive Predictive Value: {:.2f}%'.format(decision_tree_ppv))\n",
    "print('Negative Predictive Value: {:.2f}%'.format(decision_tree_npv))\n",
    "print('Accuracy Score: {:.2f}%'.format(decision_tree_accuracy))\n",
    "print('F1 Score: {:.2f}%'.format(decision_tree_f1))\n",
    "print('F2 Score: {:.2f}%'.format(decision_tree_f2))\n",
    "print()"
   ]
  },
  {
   "cell_type": "markdown",
   "id": "9be32294",
   "metadata": {},
   "source": [
    "## Gradient Boosting"
   ]
  },
  {
   "cell_type": "code",
   "execution_count": 178,
   "id": "40759d5d",
   "metadata": {},
   "outputs": [],
   "source": [
    "# Gradient Boosting\n",
    "gradient_boosting = GradientBoostingClassifier()\n",
    "gradient_boosting.fit(X_train_scaled, y_train)\n",
    "gradient_boosting_predictions = gradient_boosting.predict(X_test_scaled)\n",
    "gradient_boosting_conf_matrix = confusion_matrix(y_test, gradient_boosting_predictions)\n",
    "\n",
    "\n",
    "gradient_boosting_sensitivity = gradient_boosting_conf_matrix[1, 1] / (gradient_boosting_conf_matrix[1, 1] + gradient_boosting_conf_matrix[1, 0]) * 100\n",
    "gradient_boosting_specificity = random_forest_conf_matrix[0, 0] / (gradient_boosting_conf_matrix[0, 0] + gradient_boosting_conf_matrix[0, 1]) * 100\n",
    "gradient_boosting_ppv = gradient_boosting_conf_matrix[1, 1] / (gradient_boosting_conf_matrix[1, 1] + gradient_boosting_conf_matrix[0, 1]) * 100\n",
    "gradient_boosting_npv = gradient_boosting_conf_matrix[0, 0] / (gradient_boosting_conf_matrix[0, 0] + gradient_boosting_conf_matrix[1, 0]) * 100\n",
    "gradient_boosting_accuracy = accuracy_score(y_test, gradient_boosting_predictions) * 100\n",
    "gradient_boosting_f1 = f1_score(y_test, gradient_boosting_predictions) * 100\n",
    "# Calculating F2 score for Gradient Boosting\n",
    "beta = 2\n",
    "gradient_boosting_f2 = fbeta_score(y_test, gradient_boosting_predictions, beta=beta) * 100"
   ]
  },
  {
   "cell_type": "markdown",
   "id": "90ac96cc",
   "metadata": {},
   "source": [
    "## Printing results"
   ]
  },
  {
   "cell_type": "code",
   "execution_count": 179,
   "id": "ae130a28",
   "metadata": {},
   "outputs": [
    {
     "name": "stdout",
     "output_type": "stream",
     "text": [
      "Gradient Boosting:\n",
      "Confusion Matrix:\n",
      "[[768  17]\n",
      " [ 77  29]]\n",
      "Sensitivity: 27.36%\n",
      "Specificity: 98.22%\n",
      "Positive Predictive Value: 63.04%\n",
      "Negative Predictive Value: 90.89%\n",
      "Accuracy Score: 89.45%\n",
      "F1 Score: 38.16%\n",
      "F2 Score: 30.85%\n",
      "\n"
     ]
    }
   ],
   "source": [
    "print('Gradient Boosting:')\n",
    "print('Confusion Matrix:')\n",
    "print(gradient_boosting_conf_matrix)\n",
    "print('Sensitivity: {:.2f}%'.format(gradient_boosting_sensitivity))\n",
    "print('Specificity: {:.2f}%'.format(gradient_boosting_specificity))\n",
    "print('Positive Predictive Value: {:.2f}%'.format(gradient_boosting_ppv))\n",
    "print('Negative Predictive Value: {:.2f}%'.format(gradient_boosting_npv))\n",
    "print('Accuracy Score: {:.2f}%'.format(gradient_boosting_accuracy))\n",
    "print('F1 Score: {:.2f}%'.format(gradient_boosting_f1))\n",
    "print('F2 Score: {:.2f}%'.format(gradient_boosting_f2))\n",
    "print()"
   ]
  },
  {
   "cell_type": "markdown",
   "id": "50a998fb",
   "metadata": {},
   "source": [
    "## Naive Bayes"
   ]
  },
  {
   "cell_type": "code",
   "execution_count": 159,
   "id": "a3fbb88d",
   "metadata": {},
   "outputs": [],
   "source": [
    "# Naive Bayes\n",
    "naive_bayes = GaussianNB()\n",
    "naive_bayes.fit(X_train_scaled, y_train)\n",
    "naive_bayes_predictions = naive_bayes.predict(X_test_scaled)\n",
    "naive_bayes_conf_matrix = confusion_matrix(y_test, naive_bayes_predictions)\n",
    "\n",
    "\n",
    "naive_bayes_sensitivity = naive_bayes_conf_matrix[1, 1] / (naive_bayes_conf_matrix[1, 1] + naive_bayes_conf_matrix[1, 0]) * 100\n",
    "naive_bayes_specificity = naive_bayes_conf_matrix[0, 0] / (naive_bayes_conf_matrix[0, 0] + naive_bayes_conf_matrix[0, 1]) * 100\n",
    "naive_bayes_ppv = naive_bayes_conf_matrix[1, 1] / (naive_bayes_conf_matrix[1, 1] + naive_bayes_conf_matrix[0, 1]) * 100\n",
    "naive_bayes_npv = naive_bayes_conf_matrix[0, 0] / (naive_bayes_conf_matrix[0, 0] + naive_bayes_conf_matrix[1, 0]) * 100\n",
    "naive_bayes_accuracy = accuracy_score(y_test, naive_bayes_predictions) * 100\n",
    "naive_bayes_f1 = f1_score(y_test, naive_bayes_predictions) * 100\n",
    "# Calculating F2 score for Naive Bayes\n",
    "beta = 2\n",
    "naive_bayes_f2 = fbeta_score(y_test, naive_bayes_predictions, beta=beta) * 100"
   ]
  },
  {
   "cell_type": "markdown",
   "id": "4d04e267",
   "metadata": {},
   "source": [
    "## Printing results"
   ]
  },
  {
   "cell_type": "code",
   "execution_count": 160,
   "id": "cf85c66c",
   "metadata": {},
   "outputs": [
    {
     "name": "stdout",
     "output_type": "stream",
     "text": [
      "Naive Bayes:\n",
      "Confusion Matrix:\n",
      "[[737  48]\n",
      " [ 65  41]]\n",
      "Sensitivity: 38.68%\n",
      "Specificity: 93.89%\n",
      "Positive Predictive Value: 46.07%\n",
      "Negative Predictive Value: 91.90%\n",
      "Accuracy Score: 87.32%\n",
      "F1 Score: 42.05%\n",
      "F2 Score: 39.96%\n",
      "\n"
     ]
    }
   ],
   "source": [
    "print('Naive Bayes:')\n",
    "print('Confusion Matrix:')\n",
    "print(naive_bayes_conf_matrix)\n",
    "print('Sensitivity: {:.2f}%'.format(naive_bayes_sensitivity))\n",
    "print('Specificity: {:.2f}%'.format(naive_bayes_specificity))\n",
    "print('Positive Predictive Value: {:.2f}%'.format(naive_bayes_ppv))\n",
    "print('Negative Predictive Value: {:.2f}%'.format(naive_bayes_npv))\n",
    "print('Accuracy Score: {:.2f}%'.format(naive_bayes_accuracy))\n",
    "print('F1 Score: {:.2f}%'.format(naive_bayes_f1))\n",
    "print('F2 Score: {:.2f}%'.format(naive_bayes_f2))\n",
    "print()"
   ]
  },
  {
   "cell_type": "markdown",
   "id": "96821a94",
   "metadata": {},
   "source": [
    "## Neural Network"
   ]
  },
  {
   "cell_type": "code",
   "execution_count": 182,
   "id": "c1cb28d0",
   "metadata": {},
   "outputs": [],
   "source": [
    "# Neural Network (Multilayer Perceptron)\n",
    "mlp = MLPClassifier()\n",
    "mlp.fit(X_train_scaled, y_train)\n",
    "mlp_predictions = mlp.predict(X_test_scaled)\n",
    "mlp_conf_matrix = confusion_matrix(y_test, mlp_predictions)\n",
    "\n",
    "mlp_sensitivity = mlp_conf_matrix[1, 1] / (mlp_conf_matrix[1, 1] + mlp_conf_matrix[1, 0]) * 100\n",
    "mlp_specificity = mlp_conf_matrix[0, 0] / (mlp_conf_matrix[0, 0] + mlp_conf_matrix[0, 1]) * 100\n",
    "mlp_ppv = mlp_conf_matrix[1, 1] / (mlp_conf_matrix[1, 1] + mlp_conf_matrix[0, 1]) * 100\n",
    "mlp_npv = mlp_conf_matrix[0, 0] / (mlp_conf_matrix[0, 0] + mlp_conf_matrix[1, 0]) * 100\n",
    "mlp_accuracy = accuracy_score(y_test, mlp_predictions) * 100\n",
    "mlp_f1 = f1_score(y_test, mlp_predictions) * 100\n",
    "# Calculating F2 score for neural network (multilayer perception)\n",
    "beta = 2\n",
    "mlp_f2 = fbeta_score(y_test, mlp_predictions, beta=beta) * 100"
   ]
  },
  {
   "cell_type": "markdown",
   "id": "10b9ae8f",
   "metadata": {},
   "source": [
    "## Printing results"
   ]
  },
  {
   "cell_type": "code",
   "execution_count": 183,
   "id": "b7c388ae",
   "metadata": {},
   "outputs": [
    {
     "name": "stdout",
     "output_type": "stream",
     "text": [
      "Neural Network (Multilayer Perceptron):\n",
      "Confusion Matrix:\n",
      "[[772  13]\n",
      " [ 76  30]]\n",
      "Sensitivity: 28.30%\n",
      "Specificity: 98.34%\n",
      "Positive Predictive Value: 69.77%\n",
      "Negative Predictive Value: 91.04%\n",
      "Accuracy Score: 90.01%\n",
      "F1 Score: 40.27%\n",
      "F2 Score: 32.12%\n",
      "\n"
     ]
    }
   ],
   "source": [
    "print('Neural Network (Multilayer Perceptron):')\n",
    "print('Confusion Matrix:')\n",
    "print(mlp_conf_matrix)\n",
    "print('Sensitivity: {:.2f}%'.format(mlp_sensitivity))\n",
    "print('Specificity: {:.2f}%'.format(mlp_specificity))\n",
    "print('Positive Predictive Value: {:.2f}%'.format(mlp_ppv))\n",
    "print('Negative Predictive Value: {:.2f}%'.format(mlp_npv))\n",
    "print('Accuracy Score: {:.2f}%'.format(mlp_accuracy))\n",
    "print('F1 Score: {:.2f}%'.format(mlp_f1))\n",
    "print('F2 Score: {:.2f}%'.format(mlp_f2))\n",
    "print()"
   ]
  },
  {
   "cell_type": "markdown",
   "id": "4839b0fc",
   "metadata": {},
   "source": [
    "## Logistic Regression"
   ]
  },
  {
   "cell_type": "code",
   "execution_count": 32,
   "id": "25ca3e9d",
   "metadata": {},
   "outputs": [],
   "source": [
    "# Logistic Regression\n",
    "logistic_reg = LogisticRegression()\n",
    "logistic_reg.fit(X_train_scaled, y_train)\n",
    "logistic_reg_predictions = logistic_reg.predict(X_test_scaled)\n",
    "logistic_reg_conf_matrix = confusion_matrix(y_test, logistic_reg_predictions)\n",
    "\n",
    "logistic_reg_sensitivity = logistic_reg_conf_matrix[1, 1] / (logistic_reg_conf_matrix[1, 1] + logistic_reg_conf_matrix[1, 0]) * 100\n",
    "logistic_reg_specificity = logistic_reg_conf_matrix[0, 0] / (logistic_reg_conf_matrix[0, 0] + logistic_reg_conf_matrix[0, 1]) * 100\n",
    "logistic_reg_ppv = logistic_reg_conf_matrix[1, 1] / (logistic_reg_conf_matrix[1, 1] + logistic_reg_conf_matrix[0, 1]) * 100\n",
    "logistic_reg_npv = logistic_reg_conf_matrix[0, 0] / (logistic_reg_conf_matrix[0, 0] + logistic_reg_conf_matrix[1, 0]) * 100\n",
    "logistic_reg_accuracy = accuracy_score(y_test, logistic_reg_predictions) * 100\n",
    "# Calculating F2 score for Logistic Regression\n",
    "beta = 2\n",
    "logistic_reg_f2 = fbeta_score(y_test, logistic_reg_predictions, beta=beta) * 100"
   ]
  },
  {
   "cell_type": "markdown",
   "id": "3dae6513",
   "metadata": {},
   "source": [
    "## Printing Results"
   ]
  },
  {
   "cell_type": "code",
   "execution_count": 33,
   "id": "f70fa31d",
   "metadata": {},
   "outputs": [
    {
     "name": "stdout",
     "output_type": "stream",
     "text": [
      "Logistic Regression:\n",
      "Confusion Matrix:\n",
      "[[778   7]\n",
      " [ 85  21]]\n",
      "Sensitivity: 19.81%\n",
      "Specificity: 99.11%\n",
      "Positive Predictive Value: 75.00%\n",
      "Negative Predictive Value: 90.15%\n",
      "Accuracy Score: 89.67%\n",
      "F2 Score: 23.23%\n",
      "\n"
     ]
    }
   ],
   "source": [
    "# Printing results for Logistic Regression with F2 score\n",
    "print('Logistic Regression:')\n",
    "print('Confusion Matrix:')\n",
    "print(logistic_reg_conf_matrix)\n",
    "print('Sensitivity: {:.2f}%'.format(logistic_reg_sensitivity))\n",
    "print('Specificity: {:.2f}%'.format(logistic_reg_specificity))\n",
    "print('Positive Predictive Value: {:.2f}%'.format(logistic_reg_ppv))\n",
    "print('Negative Predictive Value: {:.2f}%'.format(logistic_reg_npv))\n",
    "print('Accuracy Score: {:.2f}%'.format(logistic_reg_accuracy))\n",
    "print('F2 Score: {:.2f}%'.format(logistic_reg_f2))\n",
    "print()"
   ]
  },
  {
   "cell_type": "markdown",
   "id": "6d6c5c82",
   "metadata": {},
   "source": [
    "## Support vector machine (SVM)"
   ]
  },
  {
   "cell_type": "code",
   "execution_count": 34,
   "id": "fa97e79d",
   "metadata": {},
   "outputs": [],
   "source": [
    "# Support Vector Machine (SVM)\n",
    "svm = SVC()\n",
    "svm.fit(X_train_scaled, y_train)\n",
    "svm_predictions = svm.predict(X_test_scaled)\n",
    "svm_conf_matrix = confusion_matrix(y_test, svm_predictions)\n",
    "\n",
    "svm_sensitivity = svm_conf_matrix[1, 1] / (svm_conf_matrix[1, 1] + svm_conf_matrix[1, 0]) * 100\n",
    "svm_specificity = svm_conf_matrix[0, 0] / (svm_conf_matrix[0, 0] + svm_conf_matrix[0, 1]) * 100\n",
    "svm_ppv = svm_conf_matrix[1, 1] / (svm_conf_matrix[1, 1] + svm_conf_matrix[0, 1]) * 100\n",
    "svm_npv = svm_conf_matrix[0, 0] / (svm_conf_matrix[0, 0] + svm_conf_matrix[1, 0]) * 100\n",
    "svm_accuracy = accuracy_score(y_test, svm_predictions) * 100\n",
    "svm_f1 = f1_score(y_test, svm_predictions) * 100\n",
    "# Calculating F2 score for Support Vector Machine (SVM)\n",
    "beta = 2\n",
    "svm_f2 = fbeta_score(y_test, svm_predictions, beta=beta) * 100"
   ]
  },
  {
   "cell_type": "markdown",
   "id": "4fbe5382",
   "metadata": {},
   "source": [
    "## Printing results"
   ]
  },
  {
   "cell_type": "code",
   "execution_count": 35,
   "id": "cd4deeed",
   "metadata": {},
   "outputs": [
    {
     "name": "stdout",
     "output_type": "stream",
     "text": [
      "Support Vector Machine (SVM):\n",
      "Confusion Matrix:\n",
      "[[778   7]\n",
      " [ 79  27]]\n",
      "Sensitivity: 25.47%\n",
      "Specificity: 99.11%\n",
      "Positive Predictive Value: 79.41%\n",
      "Negative Predictive Value: 90.78%\n",
      "Accuracy Score: 90.35%\n",
      "F1 Score: 38.57%\n",
      "F2 Score: 29.48%\n",
      "\n"
     ]
    }
   ],
   "source": [
    "print('Support Vector Machine (SVM):')\n",
    "print('Confusion Matrix:')\n",
    "print(svm_conf_matrix)\n",
    "print('Sensitivity: {:.2f}%'.format(svm_sensitivity))\n",
    "print('Specificity: {:.2f}%'.format(svm_specificity))\n",
    "print('Positive Predictive Value: {:.2f}%'.format(svm_ppv))\n",
    "print('Negative Predictive Value: {:.2f}%'.format(svm_npv))\n",
    "print('Accuracy Score: {:.2f}%'.format(svm_accuracy))\n",
    "print('F1 Score: {:.2f}%'.format(svm_f1))\n",
    "print('F2 Score: {:.2f}%'.format(svm_f2))\n",
    "print()"
   ]
  },
  {
   "cell_type": "markdown",
   "id": "011373a5",
   "metadata": {},
   "source": [
    "## K Nearest Neighbors (KNN)"
   ]
  },
  {
   "cell_type": "code",
   "execution_count": 36,
   "id": "8b310cca",
   "metadata": {},
   "outputs": [],
   "source": [
    "# K-nearest neighbors (KNN)\n",
    "knn = KNeighborsClassifier()\n",
    "knn.fit(X_train_scaled, y_train)\n",
    "knn_predictions = knn.predict(X_test_scaled)\n",
    "knn_conf_matrix = confusion_matrix(y_test, knn_predictions)\n",
    "\n",
    "knn_sensitivity = knn_conf_matrix[1, 1] / (knn_conf_matrix[1, 1] + knn_conf_matrix[1, 0]) * 100\n",
    "knn_specificity = knn_conf_matrix[0, 0] / (knn_conf_matrix[0, 0] + knn_conf_matrix[0, 1]) * 100\n",
    "knn_ppv = knn_conf_matrix[1, 1] / (knn_conf_matrix[1, 1] + knn_conf_matrix[0, 1]) * 100\n",
    "knn_npv = knn_conf_matrix[0, 0] / (knn_conf_matrix[0, 0] + knn_conf_matrix[1, 0]) * 100\n",
    "knn_accuracy = accuracy_score(y_test, knn_predictions) * 100\n",
    "knn_f1 = f1_score(y_test, knn_predictions) * 100\n",
    "#Calculating F2 score for K-Nearest neighbors (KNN)\n",
    "beta = 2\n",
    "knn_f2 = fbeta_score(y_test, knn_predictions, beta=beta) * 100"
   ]
  },
  {
   "cell_type": "markdown",
   "id": "0542f32f",
   "metadata": {},
   "source": [
    "## Printing results"
   ]
  },
  {
   "cell_type": "code",
   "execution_count": 37,
   "id": "878ca755",
   "metadata": {},
   "outputs": [
    {
     "name": "stdout",
     "output_type": "stream",
     "text": [
      "K-Nearest Neighbors (KNN):\n",
      "Confusion Matrix:\n",
      "[[763  22]\n",
      " [ 79  27]]\n",
      "Sensitivity: 25.47%\n",
      "Specificity: 97.20%\n",
      "Positive Predictive Value: 55.10%\n",
      "Negative Predictive Value: 90.62%\n",
      "Accuracy Score: 88.66%\n",
      "F1 Score: 34.84%\n",
      "F2 Score: 28.54%\n",
      "\n"
     ]
    }
   ],
   "source": [
    "print('K-Nearest Neighbors (KNN):')\n",
    "print('Confusion Matrix:')\n",
    "print(knn_conf_matrix)\n",
    "print('Sensitivity: {:.2f}%'.format(knn_sensitivity))\n",
    "print('Specificity: {:.2f}%'.format(knn_specificity))\n",
    "print('Positive Predictive Value: {:.2f}%'.format(knn_ppv))\n",
    "print('Negative Predictive Value: {:.2f}%'.format(knn_npv))\n",
    "print('Accuracy Score: {:.2f}%'.format(knn_accuracy))\n",
    "print('F1 Score: {:.2f}%'.format(knn_f1))\n",
    "print('F2 Score: {:.2f}%'.format(knn_f2))\n",
    "print()"
   ]
  },
  {
   "cell_type": "markdown",
   "id": "c609d6e4",
   "metadata": {},
   "source": [
    "## AdaBoost"
   ]
  },
  {
   "cell_type": "code",
   "execution_count": 38,
   "id": "c9c54c1c",
   "metadata": {},
   "outputs": [],
   "source": [
    "# AdaBoost\n",
    "adaboost = AdaBoostClassifier()\n",
    "adaboost.fit(X_train_scaled, y_train)\n",
    "adaboost_predictions = adaboost.predict(X_test_scaled)\n",
    "adaboost_conf_matrix = confusion_matrix(y_test, adaboost_predictions)\n",
    "\n",
    "adaboost_sensitivity = adaboost_conf_matrix[1, 1] / (adaboost_conf_matrix[1, 1] + adaboost_conf_matrix[1, 0]) * 100\n",
    "adaboost_specificity = adaboost_conf_matrix[0, 0] / (adaboost_conf_matrix[0, 0] + adaboost_conf_matrix[0, 1]) * 100\n",
    "adaboost_ppv = adaboost_conf_matrix[1, 1] / (adaboost_conf_matrix[1, 1] + adaboost_conf_matrix[0, 1]) * 100\n",
    "adaboost_npv = adaboost_conf_matrix[0, 0] / (adaboost_conf_matrix[0, 0] + adaboost_conf_matrix[1, 0]) * 100\n",
    "adaboost_accuracy = accuracy_score(y_test, adaboost_predictions) * 100\n",
    "adaboost_f1 = f1_score(y_test, adaboost_predictions) * 100\n",
    "# Calculating F2 score for Adaboost\n",
    "beta = 2\n",
    "adaboost_f2 = fbeta_score(y_test, adaboost_predictions, beta=beta) * 100"
   ]
  },
  {
   "cell_type": "markdown",
   "id": "7d1f75c6",
   "metadata": {},
   "source": [
    "## Printing results"
   ]
  },
  {
   "cell_type": "code",
   "execution_count": 39,
   "id": "644a00f4",
   "metadata": {},
   "outputs": [
    {
     "name": "stdout",
     "output_type": "stream",
     "text": [
      "Adaboost:\n",
      "Confusion Matrix:\n",
      "[[764  21]\n",
      " [ 81  25]]\n",
      "Sensitivity: 23.58%\n",
      "Specificity: 97.32%\n",
      "Positive Predictive Value: 54.35%\n",
      "Negative Predictive Value: 90.41%\n",
      "Accuracy Score: 88.55%\n",
      "F1 Score: 32.89%\n",
      "F2 Score: 26.60%\n",
      "\n"
     ]
    }
   ],
   "source": [
    "print('Adaboost:')\n",
    "print('Confusion Matrix:')\n",
    "print(adaboost_conf_matrix)\n",
    "print('Sensitivity: {:.2f}%'.format(adaboost_sensitivity))\n",
    "print('Specificity: {:.2f}%'.format(adaboost_specificity))\n",
    "print('Positive Predictive Value: {:.2f}%'.format(adaboost_ppv))\n",
    "print('Negative Predictive Value: {:.2f}%'.format(adaboost_npv))\n",
    "print('Accuracy Score: {:.2f}%'.format(adaboost_accuracy))\n",
    "print('F1 Score: {:.2f}%'.format(adaboost_f1))\n",
    "print('F2 Score: {:.2f}%'.format(adaboost_f2))\n",
    "print()"
   ]
  },
  {
   "cell_type": "markdown",
   "id": "f0a5b09b",
   "metadata": {},
   "source": [
    "## Kernal Support vector machine (KSVM)"
   ]
  },
  {
   "cell_type": "code",
   "execution_count": 40,
   "id": "6aa0158a",
   "metadata": {},
   "outputs": [],
   "source": [
    "# Kernel Support Vector Machine (KSVM)\n",
    "kernel_svm = SVC(kernel='rbf')\n",
    "kernel_svm.fit(X_train_scaled, y_train)\n",
    "kernel_svm_predictions = kernel_svm.predict(X_test_scaled)\n",
    "kernel_svm_conf_matrix = confusion_matrix(y_test, kernel_svm_predictions)\n",
    "\n",
    "kernel_svm_sensitivity = kernel_svm_conf_matrix[1, 1] / (kernel_svm_conf_matrix[1, 1] + kernel_svm_conf_matrix[1, 0]) * 100\n",
    "kernel_svm_specificity = kernel_svm_conf_matrix[0, 0] / (adaboost_conf_matrix[0, 0] + kernel_svm_conf_matrix[0, 1]) * 100\n",
    "kernel_svm_ppv = kernel_svm_conf_matrix[1, 1] / (kernel_svm_conf_matrix[1, 1] + kernel_svm_conf_matrix[0, 1]) * 100\n",
    "kernel_svm_npv = kernel_svm_conf_matrix[0, 0] / (kernel_svm_conf_matrix[0, 0] + kernel_svm_conf_matrix[1, 0]) * 100\n",
    "kernel_svm_accuracy = accuracy_score(y_test, kernel_svm_predictions) * 100\n",
    "kernel_svm_f1 = f1_score(y_test, kernel_svm_predictions) * 100\n",
    "# Calculating F2 score for Kernel Support Vector Machine (K-SVM)\n",
    "beta = 2\n",
    "kernel_svm_f2 = fbeta_score(y_test, kernel_svm_predictions, beta=beta) * 100"
   ]
  },
  {
   "cell_type": "markdown",
   "id": "73587fbf",
   "metadata": {},
   "source": [
    "## Printing results"
   ]
  },
  {
   "cell_type": "code",
   "execution_count": 41,
   "id": "92b100e0",
   "metadata": {},
   "outputs": [
    {
     "name": "stdout",
     "output_type": "stream",
     "text": [
      "Kernel Support Vector Machine (K-SVM):\n",
      "Confusion Matrix:\n",
      "[[778   7]\n",
      " [ 79  27]]\n",
      "Sensitivity: 25.47%\n",
      "Specificity: 100.91%\n",
      "Positive Predictive Value: 79.41%\n",
      "Negative Predictive Value: 90.78%\n",
      "Accuracy Score: 90.35%\n",
      "F1 Score: 38.57%\n",
      "F2 Score: 29.48%\n",
      "\n"
     ]
    }
   ],
   "source": [
    "print('Kernel Support Vector Machine (K-SVM):')\n",
    "print('Confusion Matrix:')\n",
    "print(kernel_svm_conf_matrix)\n",
    "print('Sensitivity: {:.2f}%'.format(kernel_svm_sensitivity))\n",
    "print('Specificity: {:.2f}%'.format(kernel_svm_specificity))\n",
    "print('Positive Predictive Value: {:.2f}%'.format(kernel_svm_ppv))\n",
    "print('Negative Predictive Value: {:.2f}%'.format(kernel_svm_npv))\n",
    "print('Accuracy Score: {:.2f}%'.format(kernel_svm_accuracy))\n",
    "print('F1 Score: {:.2f}%'.format(kernel_svm_f1))\n",
    "print('F2 Score: {:.2f}%'.format(kernel_svm_f2))\n",
    "print()"
   ]
  },
  {
   "cell_type": "markdown",
   "id": "aa166844",
   "metadata": {},
   "source": [
    "# Features Importances"
   ]
  },
  {
   "cell_type": "markdown",
   "id": "71969343",
   "metadata": {},
   "source": [
    "## Libraries"
   ]
  },
  {
   "cell_type": "code",
   "execution_count": 42,
   "id": "c6c27810",
   "metadata": {},
   "outputs": [],
   "source": [
    "# Importing libraries\n",
    "import shap\n",
    "from sklearn.ensemble import RandomForestRegressor"
   ]
  },
  {
   "cell_type": "markdown",
   "id": "85808e1a",
   "metadata": {},
   "source": [
    "## Model"
   ]
  },
  {
   "cell_type": "code",
   "execution_count": 43,
   "id": "568f6ca9",
   "metadata": {},
   "outputs": [],
   "source": [
    "# Creating the model\n",
    "model = RandomForestRegressor()"
   ]
  },
  {
   "cell_type": "markdown",
   "id": "5d9a9002",
   "metadata": {},
   "source": [
    "## Fitting Model"
   ]
  },
  {
   "cell_type": "code",
   "execution_count": 44,
   "id": "b7df44c1",
   "metadata": {},
   "outputs": [
    {
     "data": {
      "text/plain": [
       "RandomForestRegressor()"
      ]
     },
     "execution_count": 44,
     "metadata": {},
     "output_type": "execute_result"
    }
   ],
   "source": [
    "# Fitting the model to the training data\n",
    "model.fit(X_train, y_train)"
   ]
  },
  {
   "cell_type": "markdown",
   "id": "c93641b0",
   "metadata": {},
   "source": [
    "## Explainer Object"
   ]
  },
  {
   "cell_type": "code",
   "execution_count": 45,
   "id": "919ee4a7",
   "metadata": {},
   "outputs": [],
   "source": [
    "# Creating an explainer object\n",
    "explainer = shap.Explainer(model)"
   ]
  },
  {
   "cell_type": "markdown",
   "id": "951f06fb",
   "metadata": {},
   "source": [
    "## Computation of SHAP values"
   ]
  },
  {
   "cell_type": "code",
   "execution_count": 46,
   "id": "ccb0632f",
   "metadata": {},
   "outputs": [],
   "source": [
    "# Computing SHAP values for all features\n",
    "shap_values = explainer(X_train)"
   ]
  },
  {
   "cell_type": "markdown",
   "id": "fbe3145f",
   "metadata": {},
   "source": [
    "## Visulization of SHAP "
   ]
  },
  {
   "cell_type": "code",
   "execution_count": 47,
   "id": "458c337d",
   "metadata": {},
   "outputs": [
    {
     "data": {
      "image/png": "[encoded data removed]",
      "text/plain": [
       "<Figure size 576x280.8 with 2 Axes>"
      ]
     },
     "metadata": {},
     "output_type": "display_data"
    }
   ],
   "source": [
    "# Setting the figure size\n",
    "plt.figure(figsize=(12, 10))\n",
    "\n",
    "# Plotting SHAP summary plot\n",
    "shap.summary_plot(shap_values, X_train, show=False)\n",
    "\n",
    "# Setting font style \n",
    "plt.rcParams['font.family'] = 'Times New Roman'\n",
    "\n",
    "# Customising the appearance of the chart\n",
    "plt.grid(True, linestyle=\":\", linewidth=0.25)\n",
    "\n",
    "# Setting ticks, labels\n",
    "plt.xticks(fontsize=10, weight='bold', fontname='Times New Roman') # Adjust font size here\n",
    "plt.yticks(fontsize=10, weight='bold', fontname='Times New Roman')  # You can adjust yticks size here\n",
    "plt.xlabel('SHAP values (impact on model output)', fontsize=12, weight='bold', fontname='Times New Roman')\n",
    "plt.ylabel('Features', fontsize=12, weight='bold', fontname='Times New Roman')\n",
    "\n",
    "# Saving the plot to a file\n",
    "plt.tight_layout(rect=[0, 0, 1, 0.96])\n",
    "#plt.savefig('shap_summary.png', dpi=300, bbox_inches='tight')\n",
    "\n",
    "# Show the plot\n",
    "plt.show()\n",
    "\n",
    "# Closing the plot\n",
    "plt.close()"
   ]
  },
  {
   "cell_type": "markdown",
   "id": "607e67e4",
   "metadata": {},
   "source": [
    "# Receiver Operating Characteristic Curve (ROC Curve)"
   ]
  },
  {
   "cell_type": "markdown",
   "id": "9b8dd980",
   "metadata": {},
   "source": [
    "## Libraries"
   ]
  },
  {
   "cell_type": "code",
   "execution_count": 48,
   "id": "5e1838d7",
   "metadata": {},
   "outputs": [],
   "source": [
    "# libraries\n",
    "import matplotlib.pyplot as plt\n",
    "from sklearn.model_selection import train_test_split\n",
    "from sklearn.ensemble import RandomForestClassifier, GradientBoostingClassifier\n",
    "from sklearn.tree import DecisionTreeClassifier\n",
    "from sklearn.naive_bayes import GaussianNB\n",
    "from sklearn.neural_network import MLPClassifier\n",
    "from sklearn.metrics import roc_curve, roc_auc_score, auc"
   ]
  },
  {
   "cell_type": "markdown",
   "id": "8bb87fac",
   "metadata": {},
   "source": [
    "## Selection of variables"
   ]
  },
  {
   "cell_type": "code",
   "execution_count": 49,
   "id": "f45bf4e9",
   "metadata": {},
   "outputs": [],
   "source": [
    "#Selection of variables\n",
    "X = df[['Activity', 'Rest Time', 'Rest Per Bout', 'Restlessness Ratio', 'Lactation No', 'Month of Sensor Attachment']]\n",
    "y = df['Calved']"
   ]
  },
  {
   "cell_type": "markdown",
   "id": "0d4de7ad",
   "metadata": {},
   "source": [
    "## Data spliting"
   ]
  },
  {
   "cell_type": "code",
   "execution_count": 50,
   "id": "a0f7cc15",
   "metadata": {},
   "outputs": [],
   "source": [
    "#Spliting the data set into training and testing\n",
    "X_train, X_test, y_train, y_test = train_test_split(X, y, test_size=0.2, random_state=4455)"
   ]
  },
  {
   "cell_type": "markdown",
   "id": "714d5e12",
   "metadata": {},
   "source": [
    "## Training model"
   ]
  },
  {
   "cell_type": "code",
   "execution_count": 51,
   "id": "307d3f7e",
   "metadata": {},
   "outputs": [
    {
     "data": {
      "text/plain": [
       "MLPClassifier()"
      ]
     },
     "execution_count": 51,
     "metadata": {},
     "output_type": "execute_result"
    }
   ],
   "source": [
    "# Initializing the classifiers\n",
    "rf_classifier = RandomForestClassifier()\n",
    "dt_classifier = DecisionTreeClassifier()\n",
    "gb_classifier = GradientBoostingClassifier()\n",
    "nb_classifier = GaussianNB()\n",
    "nn_classifier = MLPClassifier()\n",
    "\n",
    "# Training the models\n",
    "rf_classifier.fit(X_train, y_train)\n",
    "dt_classifier.fit(X_train, y_train)\n",
    "gb_classifier.fit(X_train, y_train)\n",
    "nb_classifier.fit(X_train, y_train)\n",
    "nn_classifier.fit(X_train, y_train)"
   ]
  },
  {
   "cell_type": "markdown",
   "id": "1cc8ee38",
   "metadata": {},
   "source": [
    "## Prediction and calculation of ROC"
   ]
  },
  {
   "cell_type": "code",
   "execution_count": 52,
   "id": "64b1416a",
   "metadata": {},
   "outputs": [],
   "source": [
    "# Initializing empty dictionaries to store ROC curve data\n",
    "roc_curves = {}\n",
    "\n",
    "# Making predictions and calculate ROC curves for each model\n",
    "classifiers = [\n",
    "    (\"Random Forest\", rf_classifier),\n",
    "    (\"Decision Tree\", dt_classifier),\n",
    "    (\"Gradient Boosting\", gb_classifier),\n",
    "    (\"Naive Bayes\", nb_classifier),\n",
    "    (\"Neural Network\", nn_classifier)\n",
    "]\n",
    "\n",
    "for name, classifier in classifiers:\n",
    "    y_prob = classifier.predict_proba(X_test)[:, 1]  # Probability of the positive class\n",
    "    fpr, tpr, _ = roc_curve(y_test, y_prob)\n",
    "    auc_score = auc(fpr, tpr)\n",
    "    roc_curves[name] = (fpr, tpr, auc_score)\n",
    "\n",
    "#Convert AUC scores to percentages\n",
    "roc_curves_percentage = {name: (fpr, tpr, round(auc_score * 100)) for name, (fpr, tpr, auc_score) in roc_curves.items()}"
   ]
  },
  {
   "cell_type": "markdown",
   "id": "b8afd91b",
   "metadata": {},
   "source": [
    "## Plotting ROC Curve"
   ]
  },
  {
   "cell_type": "code",
   "execution_count": 53,
   "id": "86f716f5",
   "metadata": {},
   "outputs": [
    {
     "data": {
      "image/png": "[encoded data removed]",
      "text/plain": [
       "<Figure size 864x720 with 1 Axes>"
      ]
     },
     "metadata": {},
     "output_type": "display_data"
    }
   ],
   "source": [
    "# Defining a list of beautiful colors for the curves\n",
    "colors = ['b', 'g', 'r', 'c', 'm']\n",
    "\n",
    "# Setting the figure size\n",
    "plt.figure(figsize=(12, 10))\n",
    "\n",
    "for name, (_, _, auc_score) in roc_curves_percentage.items():\n",
    "    fpr, tpr, _ = roc_curves_percentage[name]\n",
    "    # Using a unique color for each curve\n",
    "    color = colors.pop(0)\n",
    "    plt.plot(fpr, tpr, color, label=f'{name} (AUC = {auc_score}%)')\n",
    "\n",
    "# Removing the upper and left borders of the chart\n",
    "plt.gca().spines['top'].set_visible(False)\n",
    "plt.gca().spines['right'].set_visible(False)\n",
    "\n",
    "#Setting font style \n",
    "plt.rcParams['font.family'] = 'Times New Roman'\n",
    "\n",
    "# Setting the title, label, and ticks for the chart\n",
    "plt.xlabel('False Positive Rate', fontsize=14, weight='bold', fontname='Times New Roman')\n",
    "plt.ylabel('True Positive Rate', fontsize=14, weight='bold', fontname='Times New Roman')\n",
    "plt.xticks(fontsize=12, weight='bold', fontname='Times New Roman')\n",
    "plt.yticks(fontsize=12, weight='bold', fontname='Times New Roman')\n",
    "plt.title('Receiver Operating Characteristic (ROC) Curves', fontsize=14, weight='bold', fontname='Times New Roman')\n",
    "\n",
    "# Customizing the colors of the borders and ticks\n",
    "plt.gca().spines['left'].set_color('gray')\n",
    "plt.gca().spines['bottom'].set_color('gray')\n",
    "plt.gca().xaxis.set_ticks_position('bottom')\n",
    "plt.gca().yaxis.set_ticks_position('left')\n",
    "\n",
    "# Displaying grid for better visualization\n",
    "plt.grid(True, linestyle=':')\n",
    "\n",
    "# Setting the legend outside of the chart\n",
    "plt.legend(loc='center left', bbox_to_anchor=(1, 0.9), prop={'family': 'Times New Roman', 'size': 12}, frameon=False)\n",
    "\n",
    "#Setting the tight layout for chart\n",
    "plt.tight_layout()\n",
    "\n",
    "\n",
    "# Saving the plot\n",
    "plt.tight_layout(rect=[0, 0, 1, 0.96])\n",
    "# plt.savefig('roc_chart.png', dpi=300, bbox_inches='tight')\n",
    "\n",
    "# Show the chart\n",
    "plt.show()"
   ]
  },
  {
   "cell_type": "code",
   "execution_count": null,
   "id": "dbb5dbf4",
   "metadata": {},
   "outputs": [],
   "source": []
  },
  {
   "cell_type": "code",
   "execution_count": null,
   "id": "54e6e61e",
   "metadata": {},
   "outputs": [],
   "source": []
  }
 ],
 "metadata": {
  "kernelspec": {
   "display_name": "Python 3",
   "language": "python",
   "name": "python3"
  },
  "language_info": {
   "codemirror_mode": {
    "name": "ipython",
    "version": 3
   },
   "file_extension": ".py",
   "mimetype": "text/x-python",
   "name": "python",
   "nbconvert_exporter": "python",
   "pygments_lexer": "ipython3",
   "version": "3.8.8"
  }
 },
 "nbformat": 4,
 "nbformat_minor": 5
}
